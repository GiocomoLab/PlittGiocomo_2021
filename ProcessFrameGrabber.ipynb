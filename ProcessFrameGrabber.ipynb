{
 "cells": [
  {
   "cell_type": "code",
   "execution_count": 1,
   "metadata": {},
   "outputs": [],
   "source": [
    "import numpy as np\n",
    "import scipy as sp\n",
    "from scipy import signal\n",
    "import sklearn as sk\n",
    "from sklearn import neighbors\n",
    "import preprocessing as pp\n",
    "import utilities as u\n",
    "import MAPInference as mapi\n",
    "from matplotlib import pyplot as plt\n",
    "import pickle\n",
    "import os\n",
    "from glob import glob\n",
    "from sklearn.decomposition import PCA as pca\n",
    "from scipy.optimize import minimize\n",
    "import imageio\n",
    "from PIL import Image\n",
    "from sklearn import kernel_ridge, neighbors\n",
    "\n",
    "%matplotlib inline\n",
    "\n",
    "%load_ext autoreload\n",
    "%autoreload 2"
   ]
  },
  {
   "cell_type": "code",
   "execution_count": 2,
   "metadata": {},
   "outputs": [],
   "source": [
    "picpath = os.path.join(\"D:\\\\\",\"FrameGrabber\")\n",
    "\n",
    "pics = glob(os.path.join(picpath,\"*.png\"))"
   ]
  },
  {
   "cell_type": "code",
   "execution_count": 3,
   "metadata": {},
   "outputs": [],
   "source": [
    "stimDict = {}\n",
    "for pic in pics:\n",
    "    # get stimulus values from string\n",
    "    _,stimstr = os.path.split(pic)\n",
    "    stimstr,_ = os.path.splitext(stimstr)\n",
    "    stimparts = stimstr.split(\"_\")\n",
    "    morph = np.float(stimparts[0].split(\"morph\")[1])\n",
    "    walljit = np.float(stimparts[1].split(\"wallJit\")[1])\n",
    "    bckgndjit = np.float(stimparts[2].split(\"bckgndJit\")[1])\n",
    "    towerjit = np.float(stimparts[3].split(\"towerJit\")[1])\n",
    "    pos = np.float(stimparts[4].split(\"pos\")[1])\n",
    "    \n",
    "    stimkey = (morph,walljit,bckgndjit,towerjit)\n",
    "   \n",
    "    # if stimulus not yet encountered\n",
    "    #    make new dictionary key with empty list\n",
    "    if stimkey not in stimDict.keys():\n",
    "        stimDict[stimkey]={}\n",
    "    \n",
    "    # append file name to dictionary key\n",
    "    stimDict[stimkey][pos]=pic\n",
    "    \n",
    "    \n",
    "    \n",
    "    "
   ]
  },
  {
   "cell_type": "code",
   "execution_count": 4,
   "metadata": {},
   "outputs": [
    {
     "name": "stdout",
     "output_type": "stream",
     "text": [
      "row 304 is fucked\n",
      "key (1.0, 0.06922948, -0.01515506, -0.09076788)\n"
     ]
    }
   ],
   "source": [
    "# check that each list is the same length\n",
    "positions,keys = [],[]\n",
    "for i, (k,v) in enumerate(stimDict.items()):\n",
    "    keys.append(k)\n",
    "    positions.append(np.sort(np.array([pos for pos in v.keys()])))\n",
    "\n",
    "old_row = positions[0]\n",
    "keystokill =[]\n",
    "for i, new_row in enumerate(positions):\n",
    "    if old_row.all() != new_row.all():\n",
    "        print(\"row %i is fucked\" % i)\n",
    "        print(\"key\",keys[i])\n",
    "        keystokill.append(keys[i])\n",
    "        \n"
   ]
  },
  {
   "cell_type": "code",
   "execution_count": 5,
   "metadata": {},
   "outputs": [],
   "source": [
    "# delete fucked up entries\n",
    "for k in keystokill:\n",
    "    try:  \n",
    "        stimDict.pop(k)\n",
    "        keys.remove(k)\n",
    "    except KeyError:\n",
    "        print(\"key not found\",k)"
   ]
  },
  {
   "cell_type": "code",
   "execution_count": 6,
   "metadata": {},
   "outputs": [],
   "source": [
    "# init memory mapped file\n",
    "\n",
    "# load first file, downsample by 4\n",
    "pic = Image.open(pics[10])\n",
    "pic = np.array(pic.resize((int(pic.size[0]/4),int(pic.size[1]/4))))\n",
    "pic_fft = np.fft.rfftn(pic,axes=[0,1])\n",
    "pic_as = np.abs(pic_fft[:int((pic.shape[0]-1)/2)+1,:])\n",
    "\n",
    "# get size of fft\n",
    "\n",
    "# n frames per trial\n",
    "pos_keys = [pos for pos in positions[0] if pos >0]\n",
    "pos_keys = pos_keys[::5]\n",
    "nframes = len(pos_keys)\n",
    "\n",
    "\n",
    "# n rows is (size of flattened fft of 1 frame) * (number of frames per trial) x (number of stimulus conditions)\n",
    "# with open(os.path.join(\"D:\\\\FrameGrabber\",\"DATA.dat\"),\"wb\") as f:\n",
    "# data = np.memmap(os.path.join(\"D:\\\\FrameGrabber\",\"DATA.dat\"),mode=\"w+\",shape = (int(nframes*pic_as.size*3),len(keys)))"
   ]
  },
  {
   "cell_type": "code",
   "execution_count": 7,
   "metadata": {
    "collapsed": true,
    "jupyter": {
     "outputs_hidden": true
    }
   },
   "outputs": [
    {
     "name": "stdout",
     "output_type": "stream",
     "text": [
      "(0.25, -0.05, -0.05, -0.05)\n",
      "(0.25, -0.05, -0.05, -0.1)\n",
      "(0.25, -0.05, -0.05, 0.05)\n",
      "(0.25, -0.05, -0.05, 0.0)\n",
      "(0.25, -0.05, -0.1, -0.05)\n",
      "(0.25, -0.05, -0.1, -0.1)\n",
      "(0.25, -0.05, -0.1, 0.05)\n",
      "(0.25, -0.05, -0.1, 0.0)\n",
      "(0.25, -0.05, 0.05, -0.05)\n",
      "(0.25, -0.05, 0.05, -0.1)\n",
      "(0.25, -0.05, 0.05, 0.05)\n",
      "(0.25, -0.05, 0.05, 0.0)\n",
      "(0.25, -0.05, 0.0, -0.05)\n",
      "(0.25, -0.05, 0.0, -0.1)\n",
      "(0.25, -0.05, 0.0, 0.05)\n",
      "(0.25, -0.05, 0.0, 0.0)\n",
      "(0.25, -0.1, -0.05, -0.05)\n",
      "(0.25, -0.1, -0.05, -0.1)\n",
      "(0.25, -0.1, -0.05, 0.05)\n",
      "(0.25, -0.1, -0.05, 0.0)\n",
      "(0.25, -0.1, -0.1, -0.05)\n",
      "(0.25, -0.1, -0.1, -0.1)\n",
      "(0.25, -0.1, -0.1, 0.05)\n",
      "(0.25, -0.1, -0.1, 0.0)\n",
      "(0.25, -0.1, 0.05, -0.05)\n",
      "(0.25, -0.1, 0.05, -0.1)\n",
      "(0.25, -0.1, 0.05, 0.05)\n",
      "(0.25, -0.1, 0.05, 0.0)\n",
      "(0.25, -0.1, 0.0, -0.05)\n",
      "(0.25, -0.1, 0.0, -0.1)\n",
      "(0.25, -0.1, 0.0, 0.05)\n",
      "(0.25, -0.1, 0.0, 0.0)\n",
      "(0.25, 0.05, -0.05, -0.05)\n",
      "(0.25, 0.05, -0.05, -0.1)\n",
      "(0.25, 0.05, -0.05, 0.05)\n",
      "(0.25, 0.05, -0.05, 0.0)\n",
      "(0.25, 0.05, -0.1, -0.05)\n",
      "(0.25, 0.05, -0.1, -0.1)\n",
      "(0.25, 0.05, -0.1, 0.05)\n",
      "(0.25, 0.05, -0.1, 0.0)\n",
      "(0.25, 0.05, 0.05, -0.05)\n",
      "(0.25, 0.05, 0.05, -0.1)\n",
      "(0.25, 0.05, 0.05, 0.05)\n",
      "(0.25, 0.05, 0.05, 0.0)\n",
      "(0.25, 0.05, 0.0, -0.05)\n",
      "(0.25, 0.05, 0.0, -0.1)\n",
      "(0.25, 0.05, 0.0, 0.05)\n",
      "(0.25, 0.05, 0.0, 0.0)\n",
      "(0.25, 0.0, -0.05, -0.05)\n",
      "(0.25, 0.0, -0.05, -0.1)\n",
      "(0.25, 0.0, -0.05, 0.05)\n",
      "(0.25, 0.0, -0.05, 0.0)\n",
      "(0.25, 0.0, -0.1, -0.05)\n",
      "(0.25, 0.0, -0.1, -0.1)\n",
      "(0.25, 0.0, -0.1, 0.05)\n",
      "(0.25, 0.0, -0.1, 0.0)\n",
      "(0.25, 0.0, 0.05, -0.05)\n",
      "(0.25, 0.0, 0.05, -0.1)\n",
      "(0.25, 0.0, 0.05, 0.05)\n",
      "(0.25, 0.0, 0.05, 0.0)\n",
      "(0.25, 0.0, 0.0, -0.05)\n",
      "(0.25, 0.0, 0.0, -0.1)\n",
      "(0.25, 0.0, 0.0, 0.05)\n",
      "(0.25, 0.0, 0.0, 0.0)\n",
      "(0.5, -0.05, -0.05, -0.05)\n",
      "(0.5, -0.05, -0.05, -0.1)\n",
      "(0.5, -0.05, -0.05, 0.05)\n",
      "(0.5, -0.05, -0.05, 0.0)\n",
      "(0.5, -0.05, -0.1, -0.05)\n",
      "(0.5, -0.05, -0.1, -0.1)\n",
      "(0.5, -0.05, -0.1, 0.05)\n",
      "(0.5, -0.05, -0.1, 0.0)\n",
      "(0.5, -0.05, 0.05, -0.05)\n",
      "(0.5, -0.05, 0.05, -0.1)\n",
      "(0.5, -0.05, 0.05, 0.05)\n",
      "(0.5, -0.05, 0.05, 0.0)\n",
      "(0.5, -0.05, 0.0, -0.05)\n",
      "(0.5, -0.05, 0.0, -0.1)\n",
      "(0.5, -0.05, 0.0, 0.05)\n",
      "(0.5, -0.05, 0.0, 0.0)\n",
      "(0.5, -0.1, -0.05, -0.05)\n",
      "(0.5, -0.1, -0.05, -0.1)\n",
      "(0.5, -0.1, -0.05, 0.05)\n",
      "(0.5, -0.1, -0.05, 0.0)\n",
      "(0.5, -0.1, -0.1, -0.05)\n",
      "(0.5, -0.1, -0.1, -0.1)\n",
      "(0.5, -0.1, -0.1, 0.05)\n",
      "(0.5, -0.1, -0.1, 0.0)\n",
      "(0.5, -0.1, 0.05, -0.05)\n",
      "(0.5, -0.1, 0.05, -0.1)\n",
      "(0.5, -0.1, 0.05, 0.05)\n",
      "(0.5, -0.1, 0.05, 0.0)\n",
      "(0.5, -0.1, 0.0, -0.05)\n",
      "(0.5, -0.1, 0.0, -0.1)\n",
      "(0.5, -0.1, 0.0, 0.05)\n",
      "(0.5, -0.1, 0.0, 0.0)\n",
      "(0.5, 0.05, -0.05, -0.05)\n",
      "(0.5, 0.05, -0.05, -0.1)\n",
      "(0.5, 0.05, -0.05, 0.05)\n",
      "(0.5, 0.05, -0.05, 0.0)\n",
      "(0.5, 0.05, -0.1, -0.05)\n",
      "(0.5, 0.05, -0.1, -0.1)\n",
      "(0.5, 0.05, -0.1, 0.05)\n",
      "(0.5, 0.05, -0.1, 0.0)\n",
      "(0.5, 0.05, 0.05, -0.05)\n",
      "(0.5, 0.05, 0.05, -0.1)\n",
      "(0.5, 0.05, 0.05, 0.05)\n",
      "(0.5, 0.05, 0.05, 0.0)\n",
      "(0.5, 0.05, 0.0, -0.05)\n",
      "(0.5, 0.05, 0.0, -0.1)\n",
      "(0.5, 0.05, 0.0, 0.05)\n",
      "(0.5, 0.05, 0.0, 0.0)\n",
      "(0.5, 0.0, -0.05, -0.05)\n",
      "(0.5, 0.0, -0.05, -0.1)\n",
      "(0.5, 0.0, -0.05, 0.05)\n",
      "(0.5, 0.0, -0.05, 0.0)\n",
      "(0.5, 0.0, -0.1, -0.05)\n",
      "(0.5, 0.0, -0.1, -0.1)\n",
      "(0.5, 0.0, -0.1, 0.05)\n",
      "(0.5, 0.0, -0.1, 0.0)\n",
      "(0.5, 0.0, 0.05, -0.05)\n",
      "(0.5, 0.0, 0.05, -0.1)\n",
      "(0.5, 0.0, 0.05, 0.05)\n",
      "(0.5, 0.0, 0.05, 0.0)\n",
      "(0.5, 0.0, 0.0, -0.05)\n",
      "(0.5, 0.0, 0.0, -0.1)\n",
      "(0.5, 0.0, 0.0, 0.05)\n",
      "(0.5, 0.0, 0.0, 0.0)\n",
      "(0.75, -0.05, -0.05, -0.05)\n",
      "(0.75, -0.05, -0.05, -0.1)\n",
      "(0.75, -0.05, -0.05, 0.05)\n",
      "(0.75, -0.05, -0.05, 0.0)\n",
      "(0.75, -0.05, -0.1, -0.05)\n",
      "(0.75, -0.05, -0.1, -0.1)\n",
      "(0.75, -0.05, -0.1, 0.05)\n",
      "(0.75, -0.05, -0.1, 0.0)\n",
      "(0.75, -0.05, 0.05, -0.05)\n",
      "(0.75, -0.05, 0.05, -0.1)\n",
      "(0.75, -0.05, 0.05, 0.05)\n",
      "(0.75, -0.05, 0.05, 0.0)\n",
      "(0.75, -0.05, 0.0, -0.05)\n",
      "(0.75, -0.05, 0.0, -0.1)\n",
      "(0.75, -0.05, 0.0, 0.05)\n",
      "(0.75, -0.05, 0.0, 0.0)\n",
      "(0.75, -0.1, -0.05, -0.05)\n",
      "(0.75, -0.1, -0.05, -0.1)\n",
      "(0.75, -0.1, -0.05, 0.05)\n",
      "(0.75, -0.1, -0.05, 0.0)\n",
      "(0.75, -0.1, -0.1, -0.05)\n",
      "(0.75, -0.1, -0.1, -0.1)\n",
      "(0.75, -0.1, -0.1, 0.05)\n",
      "(0.75, -0.1, -0.1, 0.0)\n",
      "(0.75, -0.1, 0.05, -0.05)\n",
      "(0.75, -0.1, 0.05, -0.1)\n",
      "(0.75, -0.1, 0.05, 0.05)\n",
      "(0.75, -0.1, 0.05, 0.0)\n",
      "(0.75, -0.1, 0.0, -0.05)\n",
      "(0.75, -0.1, 0.0, -0.1)\n",
      "(0.75, -0.1, 0.0, 0.05)\n",
      "(0.75, -0.1, 0.0, 0.0)\n",
      "(0.75, 0.05, -0.05, -0.05)\n",
      "(0.75, 0.05, -0.05, -0.1)\n",
      "(0.75, 0.05, -0.05, 0.05)\n",
      "(0.75, 0.05, -0.05, 0.0)\n",
      "(0.75, 0.05, -0.1, -0.05)\n",
      "(0.75, 0.05, -0.1, -0.1)\n",
      "(0.75, 0.05, -0.1, 0.05)\n",
      "(0.75, 0.05, -0.1, 0.0)\n",
      "(0.75, 0.05, 0.05, -0.05)\n",
      "(0.75, 0.05, 0.05, -0.1)\n",
      "(0.75, 0.05, 0.05, 0.05)\n",
      "(0.75, 0.05, 0.05, 0.0)\n",
      "(0.75, 0.05, 0.0, -0.05)\n",
      "(0.75, 0.05, 0.0, -0.1)\n",
      "(0.75, 0.05, 0.0, 0.05)\n",
      "(0.75, 0.05, 0.0, 0.0)\n",
      "(0.75, 0.0, -0.05, -0.05)\n",
      "(0.75, 0.0, -0.05, -0.1)\n",
      "(0.75, 0.0, -0.05, 0.05)\n",
      "(0.75, 0.0, -0.05, 0.0)\n",
      "(0.75, 0.0, -0.1, -0.05)\n",
      "(0.75, 0.0, -0.1, -0.1)\n",
      "(0.75, 0.0, -0.1, 0.05)\n",
      "(0.75, 0.0, -0.1, 0.0)\n",
      "(0.75, 0.0, 0.05, -0.05)\n",
      "(0.75, 0.0, 0.05, -0.1)\n",
      "(0.75, 0.0, 0.05, 0.05)\n",
      "(0.75, 0.0, 0.05, 0.0)\n",
      "(0.75, 0.0, 0.0, -0.05)\n",
      "(0.75, 0.0, 0.0, -0.1)\n",
      "(0.75, 0.0, 0.0, 0.05)\n",
      "(0.75, 0.0, 0.0, 0.0)\n",
      "(0.0, -0.05, -0.05, -0.05)\n",
      "(0.0, -0.05, -0.05, -0.1)\n",
      "(0.0, -0.05, -0.05, 0.05)\n",
      "(0.0, -0.05, -0.05, 0.0)\n",
      "(0.0, -0.05, -0.1, -0.05)\n",
      "(0.0, -0.05, -0.1, -0.1)\n",
      "(0.0, -0.05, -0.1, 0.05)\n",
      "(0.0, -0.05, -0.1, 0.0)\n",
      "(0.0, -0.05, 0.05, -0.05)\n",
      "(0.0, -0.05, 0.05, -0.1)\n",
      "(0.0, -0.05, 0.05, 0.05)\n",
      "(0.0, -0.05, 0.05, 0.0)\n",
      "(0.0, -0.05, 0.0, -0.05)\n",
      "(0.0, -0.05, 0.0, -0.1)\n",
      "(0.0, -0.05, 0.0, 0.05)\n",
      "(0.0, -0.05, 0.0, 0.0)\n",
      "(0.0, -0.1, -0.05, -0.05)\n",
      "(0.0, -0.1, -0.05, -0.1)\n",
      "(0.0, -0.1, -0.05, 0.05)\n",
      "(0.0, -0.1, -0.05, 0.0)\n",
      "(0.0, -0.1, -0.1, -0.05)\n",
      "(0.0, -0.1, -0.1, -0.1)\n",
      "(0.0, -0.1, -0.1, 0.05)\n",
      "(0.0, -0.1, -0.1, 0.0)\n",
      "(0.0, -0.1, 0.05, -0.05)\n",
      "(0.0, -0.1, 0.05, -0.1)\n",
      "(0.0, -0.1, 0.05, 0.05)\n",
      "(0.0, -0.1, 0.05, 0.0)\n",
      "(0.0, -0.1, 0.0, -0.05)\n",
      "(0.0, -0.1, 0.0, -0.1)\n",
      "(0.0, -0.1, 0.0, 0.05)\n",
      "(0.0, -0.1, 0.0, 0.0)\n",
      "(0.0, 0.05, -0.05, -0.05)\n",
      "(0.0, 0.05, -0.05, -0.1)\n",
      "(0.0, 0.05, -0.05, 0.05)\n",
      "(0.0, 0.05, -0.05, 0.0)\n",
      "(0.0, 0.05, -0.1, -0.05)\n",
      "(0.0, 0.05, -0.1, -0.1)\n",
      "(0.0, 0.05, -0.1, 0.05)\n",
      "(0.0, 0.05, -0.1, 0.0)\n",
      "(0.0, 0.05, 0.05, -0.05)\n",
      "(0.0, 0.05, 0.05, -0.1)\n",
      "(0.0, 0.05, 0.05, 0.05)\n",
      "(0.0, 0.05, 0.05, 0.0)\n",
      "(0.0, 0.05, 0.0, -0.05)\n",
      "(0.0, 0.05, 0.0, -0.1)\n",
      "(0.0, 0.05, 0.0, 0.05)\n",
      "(0.0, 0.05, 0.0, 0.0)\n",
      "(0.0, 0.0, -0.05, -0.05)\n",
      "(0.0, 0.0, -0.05, -0.1)\n",
      "(0.0, 0.0, -0.05, 0.05)\n",
      "(0.0, 0.0, -0.05, 0.0)\n",
      "(0.0, 0.0, -0.1, -0.05)\n",
      "(0.0, 0.0, -0.1, -0.1)\n",
      "(0.0, 0.0, -0.1, 0.05)\n",
      "(0.0, 0.0, -0.1, 0.0)\n",
      "(0.0, 0.0, 0.05, -0.05)\n",
      "(0.0, 0.0, 0.05, -0.1)\n",
      "(0.0, 0.0, 0.05, 0.05)\n",
      "(0.0, 0.0, 0.05, 0.0)\n",
      "(0.0, 0.0, 0.0, -0.05)\n",
      "(0.0, 0.0, 0.0, -0.1)\n",
      "(0.0, 0.0, 0.0, 0.05)\n",
      "(0.0, 0.0, 0.0, 0.0)\n",
      "(1.0, -0.05, -0.05, -0.05)\n",
      "(1.0, -0.05, -0.05, -0.1)\n",
      "(1.0, -0.05, -0.05, 0.05)\n",
      "(1.0, -0.05, -0.05, 0.0)\n",
      "(1.0, -0.05, -0.1, -0.05)\n",
      "(1.0, -0.05, -0.1, -0.1)\n",
      "(1.0, -0.05, -0.1, 0.05)\n",
      "(1.0, -0.05, -0.1, 0.0)\n",
      "(1.0, -0.05, 0.05, -0.05)\n",
      "(1.0, -0.05, 0.05, -0.1)\n",
      "(1.0, -0.05, 0.05, 0.05)\n",
      "(1.0, -0.05, 0.05, 0.0)\n",
      "(1.0, -0.05, 0.0, -0.05)\n",
      "(1.0, -0.05, 0.0, -0.1)\n",
      "(1.0, -0.05, 0.0, 0.05)\n",
      "(1.0, -0.05, 0.0, 0.0)\n",
      "(1.0, -0.1, -0.05, -0.05)\n",
      "(1.0, -0.1, -0.05, -0.1)\n",
      "(1.0, -0.1, -0.05, 0.05)\n",
      "(1.0, -0.1, -0.05, 0.0)\n",
      "(1.0, -0.1, -0.1, -0.05)\n",
      "(1.0, -0.1, -0.1, -0.1)\n",
      "(1.0, -0.1, -0.1, 0.05)\n",
      "(1.0, -0.1, -0.1, 0.0)\n",
      "(1.0, -0.1, 0.05, -0.05)\n",
      "(1.0, -0.1, 0.05, -0.1)\n",
      "(1.0, -0.1, 0.05, 0.05)\n",
      "(1.0, -0.1, 0.05, 0.0)\n",
      "(1.0, -0.1, 0.0, -0.05)\n",
      "(1.0, -0.1, 0.0, -0.1)\n",
      "(1.0, -0.1, 0.0, 0.05)\n",
      "(1.0, -0.1, 0.0, 0.0)\n",
      "(1.0, 0.05, -0.05, -0.05)\n",
      "(1.0, 0.05, -0.05, -0.1)\n",
      "(1.0, 0.05, -0.05, 0.05)\n",
      "(1.0, 0.05, -0.05, 0.0)\n",
      "(1.0, 0.05, -0.1, -0.05)\n",
      "(1.0, 0.05, -0.1, -0.1)\n",
      "(1.0, 0.05, -0.1, 0.05)\n",
      "(1.0, 0.05, -0.1, 0.0)\n",
      "(1.0, 0.05, 0.05, -0.05)\n",
      "(1.0, 0.05, 0.05, -0.1)\n",
      "(1.0, 0.05, 0.05, 0.05)\n",
      "(1.0, 0.05, 0.05, 0.0)\n",
      "(1.0, 0.05, 0.0, -0.05)\n",
      "(1.0, 0.05, 0.0, -0.1)\n",
      "(1.0, 0.05, 0.0, 0.05)\n",
      "(1.0, 0.05, 0.0, 0.0)\n",
      "(1.0, 0.0, -0.05, -0.05)\n",
      "(1.0, 0.0, -0.05, -0.1)\n",
      "(1.0, 0.0, -0.05, 0.05)\n",
      "(1.0, 0.0, -0.05, 0.0)\n",
      "(1.0, 0.0, -0.1, -0.05)\n",
      "(1.0, 0.0, -0.1, -0.1)\n",
      "(1.0, 0.0, -0.1, 0.05)\n",
      "(1.0, 0.0, -0.1, 0.0)\n",
      "(1.0, 0.0, 0.05, -0.05)\n",
      "(1.0, 0.0, 0.05, -0.1)\n",
      "(1.0, 0.0, 0.05, 0.05)\n",
      "(1.0, 0.0, 0.05, 0.0)\n",
      "(1.0, 0.0, 0.0, -0.05)\n",
      "(1.0, 0.0, 0.0, -0.1)\n",
      "(1.0, 0.0, 0.0, 0.05)\n",
      "(1.0, 0.0, 0.0, 0.0)\n"
     ]
    }
   ],
   "source": [
    "# for each dictionary entry\n",
    "for i,key in enumerate(keys):\n",
    "    # save wall morph, tower morph, background morph\n",
    "    print(key)\n",
    "    # for each picture\n",
    "    for j, pos in enumerate(pos_keys):\n",
    "    \n",
    "        #   load file\n",
    "        f = stimDict[key][pos]\n",
    "        pic = Image.open(f)\n",
    "        pic = np.array(pic.resize((int(pic.size[0]/4),int(pic.size[1]/4))))\n",
    "        pic_fft = np.fft.rfftn(pic,axes=[0,1])\n",
    "        pic_as = np.real(pic_fft[:int((pic.shape[0]-1)/2)+1,:]**2)\n",
    "#         print(i,j)\n",
    "        data[j*pic_as.size:(j+1)*pic_as.size,i]=pic_as.ravel()\n",
    "        \n",
    "        \n",
    "    \n",
    "    #   do real fftn,\n",
    "    \n",
    "    #   take magnitude of positive frequencies\n",
    "    \n",
    "    #   insert into memory mapped array"
   ]
  },
  {
   "cell_type": "code",
   "execution_count": 9,
   "metadata": {},
   "outputs": [],
   "source": [
    "# run svd on memory mapped array \n",
    "s = np.linalg.svd(data[:,:],compute_uv=False)"
   ]
  },
  {
   "cell_type": "code",
   "execution_count": 96,
   "metadata": {},
   "outputs": [
    {
     "ename": "NameError",
     "evalue": "name 's' is not defined",
     "output_type": "error",
     "traceback": [
      "\u001b[1;31m---------------------------------------------------------------------------\u001b[0m",
      "\u001b[1;31mNameError\u001b[0m                                 Traceback (most recent call last)",
      "\u001b[1;32m<ipython-input-96-3fc226a773df>\u001b[0m in \u001b[0;36m<module>\u001b[1;34m\u001b[0m\n\u001b[0;32m      1\u001b[0m \u001b[0mf\u001b[0m\u001b[1;33m,\u001b[0m\u001b[0max\u001b[0m \u001b[1;33m=\u001b[0m \u001b[0mplt\u001b[0m\u001b[1;33m.\u001b[0m\u001b[0msubplots\u001b[0m\u001b[1;33m(\u001b[0m\u001b[1;33m)\u001b[0m\u001b[1;33m\u001b[0m\u001b[1;33m\u001b[0m\u001b[0m\n\u001b[1;32m----> 2\u001b[1;33m \u001b[0max\u001b[0m\u001b[1;33m.\u001b[0m\u001b[0mplot\u001b[0m\u001b[1;33m(\u001b[0m\u001b[0ms\u001b[0m\u001b[1;33m[\u001b[0m\u001b[1;33m:\u001b[0m\u001b[1;36m10\u001b[0m\u001b[1;33m]\u001b[0m\u001b[1;33m)\u001b[0m\u001b[1;33m\u001b[0m\u001b[1;33m\u001b[0m\u001b[0m\n\u001b[0m\u001b[0;32m      3\u001b[0m \u001b[1;31m# f.savefig(\"D:\\\\Morph_Results\\\\stim_fft_dim.png\",format=\"png\")\u001b[0m\u001b[1;33m\u001b[0m\u001b[1;33m\u001b[0m\u001b[1;33m\u001b[0m\u001b[0m\n",
      "\u001b[1;31mNameError\u001b[0m: name 's' is not defined"
     ]
    },
    {
     "data": {
      "image/png": "[encoded data removed]",
      "text/plain": [
       "<Figure size 432x288 with 1 Axes>"
      ]
     },
     "metadata": {
      "needs_background": "light"
     },
     "output_type": "display_data"
    }
   ],
   "source": [
    "f,ax = plt.subplots()\n",
    "ax.plot(s[:10])\n",
    "# f.savefig(\"D:\\\\Morph_Results\\\\stim_fft_dim.png\",format=\"png\")"
   ]
  },
  {
   "cell_type": "code",
   "execution_count": 7,
   "metadata": {},
   "outputs": [],
   "source": [
    "# trialcov = np.dot(data.T,data)\n",
    "# G:\\My Drive\\VR_SreenCapture_TwoTower\n",
    "trialcov = np.load(\"G:\\\\My Drive\\\\VR_SreenCapture_TwoTower\\\\trialcov.npy\")"
   ]
  },
  {
   "cell_type": "code",
   "execution_count": 8,
   "metadata": {},
   "outputs": [
    {
     "data": {
      "image/png": "[encoded data removed]",
      "text/plain": [
       "<Figure size 432x288 with 1 Axes>"
      ]
     },
     "metadata": {
      "needs_background": "light"
     },
     "output_type": "display_data"
    }
   ],
   "source": [
    "w,v = np.linalg.eig(trialcov)\n",
    "f,ax = plt.subplots()\n",
    "ax.plot(np.abs(w))\n",
    "princip = np.real(100*v[:,0])\n",
    "princip_norm = (princip-np.amin(princip))/(np.amax(princip)-np.amin(princip))\n",
    "# print(princip)"
   ]
  },
  {
   "cell_type": "code",
   "execution_count": 9,
   "metadata": {},
   "outputs": [],
   "source": [
    "keys = np.array(keys)\n"
   ]
  },
  {
   "cell_type": "code",
   "execution_count": 10,
   "metadata": {},
   "outputs": [],
   "source": [
    "mask = keys[:,1]!=-.1\n",
    "keys=keys[mask]\n",
    "princip_norm = princip_norm[mask]"
   ]
  },
  {
   "cell_type": "code",
   "execution_count": 11,
   "metadata": {},
   "outputs": [],
   "source": [
    "getf = lambda s : s*2.5 + (1-s)*3.5\n",
    "gettheta = lambda s: (s*60. + (1-s)*10.)*np.pi/180\n",
    "xfreq = lambda s: np.abs(getf(s)*1500/120*(np.cos(gettheta(s) + np.pi/4.)-np.sin(gettheta(s)+np.pi/4.))) \n",
    "yfreq = lambda s: np.abs(getf(s)*1500/120*(np.cos(gettheta(s) + np.pi/4.)+np.sin(gettheta(s)+np.pi/4.))) \n",
    "ang = lambda x,y: np.arctan(x/y)*180/np.pi\n",
    "angmorph = lambda s: (ang(xfreq(s),yfreq(s))-ang(xfreq(-.1),yfreq(-.1)))/(ang(xfreq(1.1),yfreq(1.1))-ang(xfreq(-.1),yfreq(-.1)))\n",
    "wallmorphx = lambda s: (xfreq(s)-xfreq(-.1))/(xfreq(1.1)-xfreq(-.1))\n",
    "wallmorphy = lambda s: (yfreq(s)-yfreq(-.1))/(yfreq(1.1)-yfreq(-.1))"
   ]
  },
  {
   "cell_type": "code",
   "execution_count": 12,
   "metadata": {},
   "outputs": [
    {
     "data": {
      "text/plain": [
       "<matplotlib.collections.PathCollection at 0x1f4b407dd48>"
      ]
     },
     "execution_count": 12,
     "metadata": {},
     "output_type": "execute_result"
    },
    {
     "data": {
      "image/png": "[encoded data removed]",
      "text/plain": [
       "<Figure size 432x288 with 1 Axes>"
      ]
     },
     "metadata": {
      "needs_background": "light"
     },
     "output_type": "display_data"
    }
   ],
   "source": [
    "f,ax = plt.subplots()\n",
    "ax.scatter(wallmorphy(keys[:,0]+keys[:,1]),wallmorphx(keys[:,0]+keys[:,1]))"
   ]
  },
  {
   "cell_type": "code",
   "execution_count": 34,
   "metadata": {},
   "outputs": [
    {
     "data": {
      "image/png": "[encoded data removed]",
      "text/plain": [
       "<Figure size 432x288 with 2 Axes>"
      ]
     },
     "metadata": {
      "needs_background": "light"
     },
     "output_type": "display_data"
    }
   ],
   "source": [
    "f,ax = plt.subplots()\n",
    "\n",
    "ax.scatter(keys[:,0]+keys[:,1],princip_norm)\n",
    "ax.set_ylabel(\"proj. on PC1 of stimuli\",fontsize=20)\n",
    "ax.set_xlabel(\"wall morph\")\n",
    "ax2 = ax.twinx()\n",
    "# ax2.scatter(keys[mask,0]+keys[mask,1],2*wallmorphx(keys[mask,0]+keys[mask,1])-1.*wallmorphy(keys[mask,0]+keys[mask,1]),color='red')\n",
    "wmx = wallmorphx(keys[:,0]+keys[:,1])\n",
    "wmy =  wallmorphy(keys[:,0]+keys[:,1])\n",
    "ax2.scatter(keys[:,0]+keys[:,1],wmx ,color='red')\n",
    "ax2.set_ylabel('normalized wall freq',color='red',fontsize=20)\n",
    "ax2.tick_params(axis='y',labelcolor='red')\n",
    "# f.savefig(\"D:\\\\Morph_Results\\\\figures\\\\stim_fft_v_wallFreq.png\",format=\"png\")"
   ]
  },
  {
   "cell_type": "code",
   "execution_count": 14,
   "metadata": {},
   "outputs": [
    {
     "data": {
      "image/png": "[encoded data removed]",
      "text/plain": [
       "<Figure size 432x288 with 2 Axes>"
      ]
     },
     "metadata": {
      "needs_background": "light"
     },
     "output_type": "display_data"
    }
   ],
   "source": [
    "f,ax = plt.subplots()\n",
    "ax.scatter(keys[:,0]+keys[:,2],princip_norm)\n",
    "ax.set_ylabel(\"proj. on PC1 of stimuli\",fontsize=20)\n",
    "ax.set_xlabel(\"background morph\")\n",
    "ax2 = ax.twinx()\n",
    "ax.scatter(keys[:,0]+keys[:,2],keys[:,0]+keys[:,2],color='red')\n",
    "ax2.set_ylabel('background color',color='red',fontsize=20)\n",
    "ax2.tick_params(axis='y',labelcolor='red')\n",
    "f.savefig(\"D:\\\\Morph_Results\\\\figures\\\\stim_fft_v_bckgnd.png\",format=\"png\")"
   ]
  },
  {
   "cell_type": "code",
   "execution_count": 15,
   "metadata": {},
   "outputs": [
    {
     "data": {
      "image/png": "[encoded data removed]",
      "text/plain": [
       "<Figure size 432x288 with 2 Axes>"
      ]
     },
     "metadata": {
      "needs_background": "light"
     },
     "output_type": "display_data"
    }
   ],
   "source": [
    "f,ax = plt.subplots()\n",
    "ax.scatter(keys[:,0]+keys[:,3],princip_norm)\n",
    "ax.set_ylabel(\"proj. on PC1 of stimuli\",fontsize=20)\n",
    "ax.set_xlabel(\"tower morph\")\n",
    "ax2 = ax.twinx()\n",
    "ax.scatter(keys[:,0]+keys[:,3],keys[:,0]+keys[:,3],color='red')\n",
    "ax2.set_ylabel('tower color',color='red',fontsize=20)\n",
    "ax2.tick_params(axis='y',labelcolor='red')\n",
    "f.savefig(\"D:\\\\Morph_Results\\\\figures\\\\stim_fft_v_tower.png\",format=\"png\")"
   ]
  },
  {
   "cell_type": "code",
   "execution_count": 18,
   "metadata": {},
   "outputs": [],
   "source": [
    "\n",
    "morphs = np.zeros(keys.shape)\n",
    "morphs[:,0]=wallmorphx(keys[:,0]+keys[:,1])\n",
    "# morphs[:,1]=ang(xfreq(keys[:,0]+keys[:,1]),yfreq(keys[:,0]+keys[:,1]))\n",
    "morphs[:,1]=wallmorphy(keys[:,0]+keys[:,1])\n",
    "morphs[:,2:]=keys[:,3:]+keys[:,:1]\n",
    "# morphs = keys[:,1:]+keys[:,:1]\n",
    "# lin_model = sk.linear_model.LinearRegression().fit(morphs,princip)\n",
    "# lin_model = kernel_ridge.KernelRidge().fit(morphs,princip)\n",
    "yhat = np.zeros([morphs.shape[0],])\n",
    "for t in range(morphs.shape[0]):\n",
    "    mask = np.ones([morphs.shape[0],])>0\n",
    "    mask[t]=False\n",
    "    train_x,train_y = morphs[mask,:],princip_norm[mask]\n",
    "    lin_model = neighbors.KNeighborsRegressor(n_neighbors=5,weights='distance').fit(train_x,train_y)\n",
    "    yhat[t]=lin_model.predict(morphs[t:t+1,:])"
   ]
  },
  {
   "cell_type": "code",
   "execution_count": 36,
   "metadata": {},
   "outputs": [
    {
     "data": {
      "image/png": "[encoded data removed]",
      "text/plain": [
       "<Figure size 432x288 with 1 Axes>"
      ]
     },
     "metadata": {
      "needs_background": "light"
     },
     "output_type": "display_data"
    }
   ],
   "source": [
    "f,ax = plt.subplots()\n",
    "ax.scatter(yhat,princip_norm,c= morphs[:,0].ravel())\n",
    "\n",
    "lin_model = neighbors.KNeighborsRegressor(n_neighbors=10,weights='distance').fit(morphs,princip_norm)"
   ]
  },
  {
   "cell_type": "code",
   "execution_count": null,
   "metadata": {},
   "outputs": [],
   "source": []
  }
 ],
 "metadata": {
  "kernelspec": {
   "display_name": "Python 3",
   "language": "python",
   "name": "python3"
  },
  "language_info": {
   "codemirror_mode": {
    "name": "ipython",
    "version": 3
   },
   "file_extension": ".py",
   "mimetype": "text/x-python",
   "name": "python",
   "nbconvert_exporter": "python",
   "pygments_lexer": "ipython3",
   "version": "3.7.4"
  }
 },
 "nbformat": 4,
 "nbformat_minor": 4
}

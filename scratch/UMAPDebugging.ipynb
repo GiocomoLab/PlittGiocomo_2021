{
 "cells": [
  {
   "cell_type": "code",
   "execution_count": 1,
   "metadata": {},
   "outputs": [
    {
     "name": "stderr",
     "output_type": "stream",
     "text": [
      "C:\\Users\\markp\\anaconda3\\lib\\site-packages\\xarray\\core\\merge.py:10: FutureWarning: The Panel class is removed from pandas. Accessing it from the top-level namespace will also be removed in the next version\n",
      "  PANDAS_TYPES = (pd.Series, pd.DataFrame, pd.Panel)\n"
     ]
    }
   ],
   "source": [
    "import os\n",
    "os.sys.path.append(\"C:\\\\Users\\\\markp\\\\repos\\\\PlittGiocomo_CA1Morph_2019\")\n",
    "import numpy as np\n",
    "import scipy as sp\n",
    "from scipy import signal\n",
    "import sklearn as sk\n",
    "from sklearn import neighbors\n",
    "import preprocessing as pp\n",
    "import utilities as u\n",
    "from matplotlib import pyplot as plt\n",
    "from mpl_toolkits.mplot3d import Axes3D\n",
    "import pickle\n",
    "from scipy.interpolate import interp1d as spline\n",
    "from sklearn.linear_model import HuberRegressor as hreg\n",
    "from sklearn.linear_model import LinearRegression as lreg\n",
    "from sklearn.decomposition import PCA as pca\n",
    "from scipy.optimize import minimize\n",
    "import umap\n",
    "import umap.plot\n",
    "\n",
    "%matplotlib inline\n",
    "\n",
    "%load_ext autoreload\n",
    "%autoreload 2"
   ]
  },
  {
   "cell_type": "code",
   "execution_count": 2,
   "metadata": {},
   "outputs": [],
   "source": [
    "df = pp.load_session_db()\n",
    "df = df[df['RewardCount']>20]\n",
    "df = df.sort_values(['MouseName','DateTime','SessionNumber'])\n",
    "df = df[df[\"Track\"]==\"TwoTower_foraging\"]\n",
    "df = df[df[\"Imaging\"]==1]"
   ]
  },
  {
   "cell_type": "code",
   "execution_count": 3,
   "metadata": {},
   "outputs": [],
   "source": [
    "df_mouse = df[df[\"MouseName\"]=='4139265.5']\n",
    "sess = df_mouse.iloc[-2]"
   ]
  },
  {
   "cell_type": "code",
   "execution_count": 4,
   "metadata": {},
   "outputs": [],
   "source": [
    "with open(os.path.join(\"D:\\\\Suite2P_Data\\\\\",sess[\"MouseName\"],\"%s_%s_%i.pkl\" % (sess[\"Track\"],sess[\"DateFolder\"],sess[\"SessionNumber\"])),'rb') as f:\n",
    "    data = pickle.load(f)\n",
    "VRDat,S = data['VRDat'],data['S']\n",
    "S[np.isnan(S)]=0\n",
    "S = S/np.percentile(S,95,axis=0)\n",
    "trial_info,S_trial_mat= data['trial_info'],data['S_trial_mat']\n",
    "S_trial_mat[np.isnan(S_trial_mat)]=0\n"
   ]
  },
  {
   "cell_type": "code",
   "execution_count": 5,
   "metadata": {},
   "outputs": [
    {
     "name": "stdout",
     "output_type": "stream",
     "text": [
      "(120, 45, 932)\n"
     ]
    }
   ],
   "source": [
    "print(S_trial_mat.shape)\n",
    "# S_trial_mat"
   ]
  },
  {
   "cell_type": "code",
   "execution_count": 6,
   "metadata": {},
   "outputs": [],
   "source": [
    "S_sm = sp.ndimage.filters.gaussian_filter1d(S,5,axis=0)\n",
    "S_sm_red = sk.decomposition.PCA(n_components=50).fit_transform(S_sm)\n",
    "\n",
    "posarray = VRDat['pos']._values\n",
    "posmask = posarray>0\n",
    "posarray = posarray[posmask]"
   ]
  },
  {
   "cell_type": "code",
   "execution_count": 7,
   "metadata": {},
   "outputs": [],
   "source": [
    "mapper =  umap.UMAP(metric='cosine',n_neighbors=50,min_dist=.3,n_components=3).fit(S_sm_red[posmask,:])"
   ]
  },
  {
   "cell_type": "code",
   "execution_count": 8,
   "metadata": {},
   "outputs": [
    {
     "data": {
      "text/plain": [
       "<mpl_toolkits.mplot3d.art3d.Path3DCollection at 0x23cda596588>"
      ]
     },
     "execution_count": 8,
     "metadata": {},
     "output_type": "execute_result"
    }
   ],
   "source": [
    "%matplotlib qt\n",
    "# umap.plot.points(mapper)\n",
    "\n",
    "morpharray = VRDat['morph']._values[posmask]\n",
    "morpharray[morpharray<0]=0\n",
    "morpharray[morpharray>1]=1\n",
    "\n",
    "\n",
    "# posarray[posarray<-50]=-50\n",
    "f= plt.figure()\n",
    "# f,ax = plt.subplots()\n",
    "ax = f.add_subplot(121,projection='3d')\n",
    "ax.scatter(mapper.embedding_[:,0],mapper.embedding_[:,1],mapper.embedding_[:,2],c=morpharray,cmap='cool')\n",
    "ax = f.add_subplot(122,projection='3d')\n",
    "ax.scatter(mapper.embedding_[:,0],mapper.embedding_[:,1],mapper.embedding_[:,2],c=posarray,cmap='magma')\n",
    "# ax = f.add_subplot(123,projection='3d')\n",
    "# ax.scatter(mapper.embedding_[:,0],mapper.embedding_[:,1],mapper.embedding_[:,2],c=VRDat['time'],cmap='viridis')\n",
    "\n",
    "# f,ax = plt.subplots()\n",
    "# pos_mat = np.linspace(0,450,num=45)[np.newaxis,:]*np.ones(S_trial_mat.shape[:2])\n",
    "# ax.scatter(mapper.embedding_[:,0],mapper.embedding_[:,1],c=pos_mat.ravel(),cmap='magma')"
   ]
  },
  {
   "cell_type": "code",
   "execution_count": 9,
   "metadata": {},
   "outputs": [],
   "source": [
    "mapper = umap.UMAP(metric='cosine',n_neighbors=50,min_dist=.3).fit(S_trial_mat.reshape(-1,S_trial_mat.shape[-1]))"
   ]
  },
  {
   "cell_type": "code",
   "execution_count": 10,
   "metadata": {},
   "outputs": [
    {
     "data": {
      "text/plain": [
       "<matplotlib.collections.PathCollection at 0x23ca3db4688>"
      ]
     },
     "execution_count": 10,
     "metadata": {},
     "output_type": "execute_result"
    }
   ],
   "source": [
    "%matplotlib qt\n",
    "# umap.plot.points(mapper)\n",
    "f,ax = plt.subplots()\n",
    "morph_mat = trial_info['morphs'][:,np.newaxis]*np.ones(S_trial_mat.shape[:2])\n",
    "\n",
    "ax.scatter(mapper.embedding_[:,0],mapper.embedding_[:,1],c=morph_mat.ravel(),cmap='cool')\n",
    "\n",
    "f,ax = plt.subplots()\n",
    "pos_mat = np.linspace(0,450,num=45)[np.newaxis,:]*np.ones(S_trial_mat.shape[:2])\n",
    "ax.scatter(mapper.embedding_[:,0],mapper.embedding_[:,1],c=pos_mat.ravel(),cmap='magma')\n"
   ]
  },
  {
   "cell_type": "code",
   "execution_count": null,
   "metadata": {},
   "outputs": [],
   "source": []
  }
 ],
 "metadata": {
  "kernelspec": {
   "display_name": "Python 3",
   "language": "python",
   "name": "python3"
  },
  "language_info": {
   "codemirror_mode": {
    "name": "ipython",
    "version": 3
   },
   "file_extension": ".py",
   "mimetype": "text/x-python",
   "name": "python",
   "nbconvert_exporter": "python",
   "pygments_lexer": "ipython3",
   "version": "3.7.4"
  }
 },
 "nbformat": 4,
 "nbformat_minor": 4
}

{
 "cells": [
  {
   "cell_type": "code",
   "execution_count": 6,
   "metadata": {},
   "outputs": [
    {
     "name": "stdout",
     "output_type": "stream",
     "text": [
      "The autoreload extension is already loaded. To reload it, use:\n",
      "  %reload_ext autoreload\n"
     ]
    }
   ],
   "source": [
    "import os\n",
    "os.sys.path.append(\"C:\\\\Users\\\\markp\\\\repos\\\\PlittGiocomo_CA1Morph_2019\")\n",
    "import numpy as np\n",
    "import scipy as sp\n",
    "from scipy import signal\n",
    "import sklearn as sk\n",
    "from sklearn import neighbors\n",
    "import preprocessing as pp\n",
    "import utilities as u\n",
    "import MAPInference as mapi\n",
    "from matplotlib import pyplot as plt\n",
    "import pickle\n",
    "\n",
    "\n",
    "\n",
    "%matplotlib inline\n",
    "\n",
    "%load_ext autoreload\n",
    "%autoreload 2"
   ]
  },
  {
   "cell_type": "code",
   "execution_count": 2,
   "metadata": {},
   "outputs": [],
   "source": [
    "df = pp.load_session_db()\n",
    "df = df[df['RewardCount']>20]\n",
    "df = df.sort_values(['MouseName','DateTime','SessionNumber'])\n",
    "df = df[df[\"Track\"]==\"TwoTower_foraging\"]\n",
    "df = df[df[\"Imaging\"]==1]"
   ]
  },
  {
   "cell_type": "code",
   "execution_count": null,
   "metadata": {},
   "outputs": [
    {
     "name": "stderr",
     "output_type": "stream",
     "text": [
      "C:\\Users\\markp\\anaconda3\\lib\\site-packages\\ipykernel_launcher.py:13: SettingWithCopyWarning: \n",
      "A value is trying to be set on a copy of a slice from a DataFrame\n",
      "\n",
      "See the caveats in the documentation: http://pandas.pydata.org/pandas-docs/stable/user_guide/indexing.html#returning-a-view-versus-a-copy\n",
      "  del sys.path[0]\n",
      "C:\\Users\\markp\\anaconda3\\lib\\site-packages\\ipykernel_launcher.py:14: SettingWithCopyWarning: \n",
      "A value is trying to be set on a copy of a slice from a DataFrame\n",
      "\n",
      "See the caveats in the documentation: http://pandas.pydata.org/pandas-docs/stable/user_guide/indexing.html#returning-a-view-versus-a-copy\n",
      "  \n"
     ]
    },
    {
     "name": "stdout",
     "output_type": "stream",
     "text": [
      "num aberrant ttls 0.0\n",
      "8.537455785750378 1756.6359903991913\n",
      "8.537645275391613 1756.5881758463872\n",
      "frame diff 0\n",
      "num aberrant ttls 0.0\n",
      "8.555899444163718 1877.5636685194543\n",
      "8.569984840828702 1877.5058110156647\n",
      "frame diff 0\n",
      "num aberrant ttls 0.0\n",
      "8.662076806467912 1797.0593734209197\n",
      "8.667003537139971 1796.980293077312\n",
      "frame diff 0\n",
      "num aberrant ttls 0.0\n",
      "8.656265790803435 2695.3516927741284\n",
      "8.667003537139971 2695.244062657908\n",
      "frame diff 0\n",
      "num aberrant ttls 0.0\n",
      "8.681910055583627 2663.3480293077314\n",
      "8.73168266801415 2663.22789287519\n",
      "MouseName                                                  4343706\n",
      "DateFolder                                              08_02_2020\n",
      "SessionNumber                                                    4\n",
      "Track                                            TwoTower_foraging\n",
      "RewardCount                                                     72\n",
      "Imaging                                                          1\n",
      "ImagingRegion                                                  CA1\n",
      "DateTime                                       2020-02-08 00:00:00\n",
      "data file        G:\\My Drive\\VR_Data\\TwoTower\\4343706\\08_02_202...\n",
      "scanmat          G:\\My Drive\\2P_Data\\DG\\4343706\\08_02_2020\\TwoT...\n",
      "s2pfolder                                                     None\n",
      "Name: 3336, dtype: object\n",
      "num aberrant ttls 0.0\n",
      "8.631253158160687 2459.7597271349164\n",
      "8.667003537139971 2459.682668014149\n",
      "frame diff 0\n",
      "num aberrant ttls 0.0\n",
      "8.669024759979788 2456.3908539666495\n",
      "8.73168266801415 2456.3193532086916\n",
      "frame diff 0\n",
      "num aberrant ttls 0.0\n",
      "8.68089944416372 2346.6244315310764\n",
      "8.73168266801415 2346.55886811521\n",
      "frame diff 0\n",
      "num aberrant ttls 0.0\n",
      "8.622915613946438 1525.7340828701365\n",
      "8.667003537139971 1525.5866599292574\n",
      "MouseName                                                  4343706\n",
      "DateFolder                                              11_02_2020\n",
      "SessionNumber                                                    2\n",
      "Track                                            TwoTower_foraging\n",
      "RewardCount                                                     33\n",
      "Imaging                                                          1\n",
      "ImagingRegion                                                  CA1\n",
      "DateTime                                       2020-02-11 00:00:00\n",
      "data file        G:\\My Drive\\VR_Data\\TwoTower\\4343706\\11_02_202...\n",
      "scanmat          G:\\My Drive\\2P_Data\\DG\\4343706\\11_02_2020\\TwoT...\n",
      "s2pfolder                                                     None\n",
      "Name: 3389, dtype: object\n",
      "num aberrant ttls 0.0\n",
      "8.54231935320869 2044.0645528044465\n",
      "8.602324406265792 2043.9898938858012\n"
     ]
    }
   ],
   "source": [
    "# mouse = '4222168.1'\n",
    "mice = ['4343706']\n",
    "for mouse in mice:\n",
    "    df_mouse = df[df[\"MouseName\"]==mouse]\n",
    "\n",
    "    try:\n",
    "        os.makedirs(os.path.join(\"E:\\\\Suite2P_Data\",mouse))\n",
    "    except:\n",
    "        pass\n",
    "\n",
    "    for i in range(df_mouse.shape[0]):\n",
    "        sess = df_mouse.iloc[i]\n",
    "        sess['scanmat']=pp.build_2P_filename(sess,serverDir = \"G:\\\\My Drive\\\\2P_Data\\\\DG\")\n",
    "        sess['s2pfolder']=pp.build_s2p_folder(sess,serverDir = \"G:\\\\My Drive\\\\2P_Data\\\\DG\")\n",
    "        try:\n",
    "            VRDat, C, S, dFF = pp.load_scan_sess(sess,fneu_coeff=.7)\n",
    "            trial_info, tstart_inds, teleport_inds = u.by_trial_info(VRDat)\n",
    "            S_trial_mat, occ_trial_mat, edges,centers = u.make_pos_bin_trial_matrices(S,\n",
    "                                                        VRDat['pos']._values,tstart_inds,\n",
    "                                                        teleport_inds,bin_size=10,\n",
    "                                                        speed = VRDat['speed']._values)\n",
    "\n",
    "            with open(os.path.join(\"E:\\\\Suite2P_Data\\\\\",mouse,\"%s_%s_%i.pkl\" % (sess['Track'],sess[\"DateFolder\"],sess['SessionNumber'])),\"wb\") as f:\n",
    "                pickle.dump({'VRDat':VRDat,'C':C,'S':S,'dFF':dFF,'trial_info':trial_info,'tstart_inds':tstart_inds,'teleport_inds':teleport_inds,\n",
    "                            'S_trial_mat':S_trial_mat,'occ_trial_mat':occ_trial_mat,'edges':edges,'centers':centers},f)\n",
    "        except:\n",
    "            print(sess)"
   ]
  },
  {
   "cell_type": "code",
   "execution_count": null,
   "metadata": {},
   "outputs": [],
   "source": [
    "with open(os.path.join(\"D:\\\\Suite2P_Data\\\\\",'4343706','TwoTower_forag.p'),\"rb\") as f:\n",
    "    data = pickle.load(f)\n",
    "for k,v in data.items():\n",
    "    print(k,v)"
   ]
  },
  {
   "cell_type": "code",
   "execution_count": 22,
   "metadata": {},
   "outputs": [
    {
     "name": "stdout",
     "output_type": "stream",
     "text": [
      "('E:\\\\2P_Data\\\\TwoTower\\\\4139265.4', ['07_02_2019', '10_02_2019', '12_02_2019', '15_02_2019', '17_02_2019', '18_02_2019', '19_02_2019', '20_02_2019', '21_02_2019', '22_02_2019', 'test'], ['desktop.ini'])\n"
     ]
    }
   ],
   "source": [
    "folders = os.walk(os.path.join(\"E:\\\\\",\"2P_Data\",\"TwoTower\",mouse))\n",
    "print(next(folders))\n",
    "\n",
    "for "
   ]
  },
  {
   "cell_type": "code",
   "execution_count": 19,
   "metadata": {},
   "outputs": [
    {
     "name": "stdout",
     "output_type": "stream",
     "text": [
      "('E:\\\\2P_Data\\\\TwoTower\\\\4139265.4', ['07_02_2019', '10_02_2019', '12_02_2019', '15_02_2019', '17_02_2019', '18_02_2019', '19_02_2019', '20_02_2019', '21_02_2019', '22_02_2019', 'test'], ['desktop.ini'])\n",
      "('E:\\\\2P_Data\\\\TwoTower\\\\4139265.4\\\\07_02_2019', ['TwoTower_foraging'], ['desktop.ini'])\n",
      "('E:\\\\2P_Data\\\\TwoTower\\\\4139265.4\\\\07_02_2019\\\\TwoTower_foraging', ['TwoTower_foraging_002_001', 'TwoTower_foraging_004_004'], ['desktop.ini', 'TwoTower_foraging_002_001.mat', 'TwoTower_foraging_002_001.sbx', 'TwoTower_foraging_002_002.mat', 'TwoTower_foraging_002_002.sbx', 'TwoTower_foraging_002_003.sbx', 'TwoTower_foraging_004_004.mat', 'TwoTower_foraging_004_004.sbx'])\n",
      "('E:\\\\2P_Data\\\\TwoTower\\\\4139265.4\\\\07_02_2019\\\\TwoTower_foraging\\\\TwoTower_foraging_002_001', ['suite2p'], ['desktop.ini'])\n",
      "('E:\\\\2P_Data\\\\TwoTower\\\\4139265.4\\\\07_02_2019\\\\TwoTower_foraging\\\\TwoTower_foraging_002_001\\\\suite2p', ['plane0'], ['data.bin', 'desktop.ini', 'ops1.npy'])\n",
      "('E:\\\\2P_Data\\\\TwoTower\\\\4139265.4\\\\07_02_2019\\\\TwoTower_foraging\\\\TwoTower_foraging_002_001\\\\suite2p\\\\plane0', [], ['desktop.ini', 'F.npy', 'Fneu.npy', 'iscell.npy', 'ops.npy', 'S.npy', 'spks.npy', 'stat.npy'])\n",
      "('E:\\\\2P_Data\\\\TwoTower\\\\4139265.4\\\\07_02_2019\\\\TwoTower_foraging\\\\TwoTower_foraging_004_004', ['suite2p'], ['desktop.ini'])\n",
      "('E:\\\\2P_Data\\\\TwoTower\\\\4139265.4\\\\07_02_2019\\\\TwoTower_foraging\\\\TwoTower_foraging_004_004\\\\suite2p', ['plane0'], ['data.bin', 'desktop.ini', 'ops1.npy'])\n",
      "('E:\\\\2P_Data\\\\TwoTower\\\\4139265.4\\\\07_02_2019\\\\TwoTower_foraging\\\\TwoTower_foraging_004_004\\\\suite2p\\\\plane0', [], ['desktop.ini', 'F.npy', 'Fneu.npy', 'iscell.npy', 'ops.npy', 'S.npy', 'spks.npy', 'stat.npy'])\n",
      "('E:\\\\2P_Data\\\\TwoTower\\\\4139265.4\\\\10_02_2019', ['TwoTower_foraging'], ['desktop.ini'])\n",
      "('E:\\\\2P_Data\\\\TwoTower\\\\4139265.4\\\\10_02_2019\\\\TwoTower_foraging', ['TwoTower_foraging_002_002'], ['desktop.ini', 'TwoTower_foraging_002_002.mat', 'TwoTower_foraging_002_002.sbx'])\n",
      "('E:\\\\2P_Data\\\\TwoTower\\\\4139265.4\\\\10_02_2019\\\\TwoTower_foraging\\\\TwoTower_foraging_002_002', ['suite2p'], ['desktop.ini'])\n",
      "('E:\\\\2P_Data\\\\TwoTower\\\\4139265.4\\\\10_02_2019\\\\TwoTower_foraging\\\\TwoTower_foraging_002_002\\\\suite2p', ['plane0'], ['data.bin', 'desktop.ini', 'ops1.npy'])\n",
      "('E:\\\\2P_Data\\\\TwoTower\\\\4139265.4\\\\10_02_2019\\\\TwoTower_foraging\\\\TwoTower_foraging_002_002\\\\suite2p\\\\plane0', [], ['desktop.ini', 'F.npy', 'Fneu.npy', 'iscell.npy', 'ops.npy', 'S.npy', 'spks.npy', 'stat.npy'])\n",
      "('E:\\\\2P_Data\\\\TwoTower\\\\4139265.4\\\\12_02_2019', ['TwoTower_foraging'], ['desktop.ini'])\n",
      "('E:\\\\2P_Data\\\\TwoTower\\\\4139265.4\\\\12_02_2019\\\\TwoTower_foraging', ['TwoTower_foraging_002_004'], ['desktop.ini', 'TwoTower_foraging_002_004.mat', 'TwoTower_foraging_002_004.sbx'])\n",
      "('E:\\\\2P_Data\\\\TwoTower\\\\4139265.4\\\\12_02_2019\\\\TwoTower_foraging\\\\TwoTower_foraging_002_004', ['suite2p'], ['desktop.ini'])\n",
      "('E:\\\\2P_Data\\\\TwoTower\\\\4139265.4\\\\12_02_2019\\\\TwoTower_foraging\\\\TwoTower_foraging_002_004\\\\suite2p', ['plane0'], ['data.bin', 'desktop.ini', 'ops1.npy'])\n",
      "('E:\\\\2P_Data\\\\TwoTower\\\\4139265.4\\\\12_02_2019\\\\TwoTower_foraging\\\\TwoTower_foraging_002_004\\\\suite2p\\\\plane0', [], ['desktop.ini', 'F.npy', 'Fneu.npy', 'iscell.npy', 'ops.npy', 'S.npy', 'spks.npy', 'stat.npy'])\n",
      "('E:\\\\2P_Data\\\\TwoTower\\\\4139265.4\\\\15_02_2019', ['TwoTower_foraging'], ['desktop.ini'])\n",
      "('E:\\\\2P_Data\\\\TwoTower\\\\4139265.4\\\\15_02_2019\\\\TwoTower_foraging', ['TwoTower_foraging_003_005'], ['desktop.ini', 'TwoTower_foraging_003_005.mat', 'TwoTower_foraging_003_005.sbx'])\n",
      "('E:\\\\2P_Data\\\\TwoTower\\\\4139265.4\\\\15_02_2019\\\\TwoTower_foraging\\\\TwoTower_foraging_003_005', ['suite2p'], ['desktop.ini'])\n",
      "('E:\\\\2P_Data\\\\TwoTower\\\\4139265.4\\\\15_02_2019\\\\TwoTower_foraging\\\\TwoTower_foraging_003_005\\\\suite2p', ['plane0'], ['data.bin', 'desktop.ini', 'ops1.npy'])\n",
      "('E:\\\\2P_Data\\\\TwoTower\\\\4139265.4\\\\15_02_2019\\\\TwoTower_foraging\\\\TwoTower_foraging_003_005\\\\suite2p\\\\plane0', [], ['desktop.ini', 'F.npy', 'Fneu.npy', 'iscell.npy', 'ops.npy', 'S.npy', 'spks.npy', 'stat.npy'])\n",
      "('E:\\\\2P_Data\\\\TwoTower\\\\4139265.4\\\\17_02_2019', ['TwoTower_foraging'], ['desktop.ini'])\n",
      "('E:\\\\2P_Data\\\\TwoTower\\\\4139265.4\\\\17_02_2019\\\\TwoTower_foraging', ['TwoTower_foraging_002_008'], ['desktop.ini', 'TwoTower_foraging_002_008.mat', 'TwoTower_foraging_002_008.sbx'])\n",
      "('E:\\\\2P_Data\\\\TwoTower\\\\4139265.4\\\\17_02_2019\\\\TwoTower_foraging\\\\TwoTower_foraging_002_008', ['suite2p'], ['desktop.ini'])\n",
      "('E:\\\\2P_Data\\\\TwoTower\\\\4139265.4\\\\17_02_2019\\\\TwoTower_foraging\\\\TwoTower_foraging_002_008\\\\suite2p', ['plane0'], ['data.bin', 'desktop.ini', 'ops1.npy'])\n",
      "('E:\\\\2P_Data\\\\TwoTower\\\\4139265.4\\\\17_02_2019\\\\TwoTower_foraging\\\\TwoTower_foraging_002_008\\\\suite2p\\\\plane0', [], ['desktop.ini', 'F.npy', 'Fneu.npy', 'iscell.npy', 'ops.npy', 'S.npy', 'spks.npy', 'stat.npy'])\n",
      "('E:\\\\2P_Data\\\\TwoTower\\\\4139265.4\\\\18_02_2019', ['TwoTower_foraging'], ['desktop.ini'])\n",
      "('E:\\\\2P_Data\\\\TwoTower\\\\4139265.4\\\\18_02_2019\\\\TwoTower_foraging', ['TwoTower_foraging_002_003'], ['desktop.ini', 'TwoTower_foraging_002_003.mat', 'TwoTower_foraging_002_003.sbx'])\n",
      "('E:\\\\2P_Data\\\\TwoTower\\\\4139265.4\\\\18_02_2019\\\\TwoTower_foraging\\\\TwoTower_foraging_002_003', ['suite2p'], ['desktop.ini'])\n",
      "('E:\\\\2P_Data\\\\TwoTower\\\\4139265.4\\\\18_02_2019\\\\TwoTower_foraging\\\\TwoTower_foraging_002_003\\\\suite2p', ['plane0'], ['data.bin', 'desktop.ini', 'ops1.npy'])\n",
      "('E:\\\\2P_Data\\\\TwoTower\\\\4139265.4\\\\18_02_2019\\\\TwoTower_foraging\\\\TwoTower_foraging_002_003\\\\suite2p\\\\plane0', [], ['desktop.ini', 'F.npy', 'Fneu.npy', 'iscell.npy', 'ops.npy', 'spks.npy', 'stat.npy'])\n",
      "('E:\\\\2P_Data\\\\TwoTower\\\\4139265.4\\\\19_02_2019', ['TwoTower_foraging'], ['desktop.ini'])\n",
      "('E:\\\\2P_Data\\\\TwoTower\\\\4139265.4\\\\19_02_2019\\\\TwoTower_foraging', ['TwoTower_foraging_002_002'], ['desktop.ini', 'TwoTower_foraging_002_002.mat', 'TwoTower_foraging_002_002.sbx'])\n",
      "('E:\\\\2P_Data\\\\TwoTower\\\\4139265.4\\\\19_02_2019\\\\TwoTower_foraging\\\\TwoTower_foraging_002_002', ['suite2p'], ['desktop.ini'])\n",
      "('E:\\\\2P_Data\\\\TwoTower\\\\4139265.4\\\\19_02_2019\\\\TwoTower_foraging\\\\TwoTower_foraging_002_002\\\\suite2p', ['plane0'], ['data.bin', 'desktop.ini', 'ops1.npy'])\n",
      "('E:\\\\2P_Data\\\\TwoTower\\\\4139265.4\\\\19_02_2019\\\\TwoTower_foraging\\\\TwoTower_foraging_002_002\\\\suite2p\\\\plane0', [], ['desktop.ini', 'F.npy', 'Fneu.npy', 'iscell.npy', 'ops.npy', 'spks.npy', 'stat.npy'])\n",
      "('E:\\\\2P_Data\\\\TwoTower\\\\4139265.4\\\\20_02_2019', ['TwoTower_foraging'], ['desktop.ini'])\n",
      "('E:\\\\2P_Data\\\\TwoTower\\\\4139265.4\\\\20_02_2019\\\\TwoTower_foraging', ['TwoTower_foraging_002_003'], ['desktop.ini', 'TwoTower_foraging_002_003.mat', 'TwoTower_foraging_002_003.sbx'])\n",
      "('E:\\\\2P_Data\\\\TwoTower\\\\4139265.4\\\\20_02_2019\\\\TwoTower_foraging\\\\TwoTower_foraging_002_003', ['suite2p'], ['desktop.ini'])\n",
      "('E:\\\\2P_Data\\\\TwoTower\\\\4139265.4\\\\20_02_2019\\\\TwoTower_foraging\\\\TwoTower_foraging_002_003\\\\suite2p', ['plane0'], ['data.bin', 'desktop.ini', 'ops1.npy'])\n",
      "('E:\\\\2P_Data\\\\TwoTower\\\\4139265.4\\\\20_02_2019\\\\TwoTower_foraging\\\\TwoTower_foraging_002_003\\\\suite2p\\\\plane0', [], ['desktop.ini', 'F.npy', 'Fneu.npy', 'iscell.npy', 'ops.npy', 'spks.npy', 'stat.npy'])\n",
      "('E:\\\\2P_Data\\\\TwoTower\\\\4139265.4\\\\21_02_2019', ['TwoTower_foraging'], ['desktop.ini'])\n",
      "('E:\\\\2P_Data\\\\TwoTower\\\\4139265.4\\\\21_02_2019\\\\TwoTower_foraging', ['TwoTower_foraging_002_006'], ['desktop.ini', 'TwoTower_foraging_002_006.mat', 'TwoTower_foraging_002_006.sbx'])\n",
      "('E:\\\\2P_Data\\\\TwoTower\\\\4139265.4\\\\21_02_2019\\\\TwoTower_foraging\\\\TwoTower_foraging_002_006', ['suite2p'], ['desktop.ini'])\n",
      "('E:\\\\2P_Data\\\\TwoTower\\\\4139265.4\\\\21_02_2019\\\\TwoTower_foraging\\\\TwoTower_foraging_002_006\\\\suite2p', ['plane0'], ['data.bin', 'desktop.ini', 'ops1.npy'])\n",
      "('E:\\\\2P_Data\\\\TwoTower\\\\4139265.4\\\\21_02_2019\\\\TwoTower_foraging\\\\TwoTower_foraging_002_006\\\\suite2p\\\\plane0', [], ['desktop.ini', 'F.npy', 'Fneu.npy', 'iscell.npy', 'ops.npy', 'spks.npy', 'stat.npy'])\n",
      "('E:\\\\2P_Data\\\\TwoTower\\\\4139265.4\\\\22_02_2019', ['TwoTower_foraging'], ['desktop.ini'])\n",
      "('E:\\\\2P_Data\\\\TwoTower\\\\4139265.4\\\\22_02_2019\\\\TwoTower_foraging', ['TwoTower_foraging_002_006'], ['desktop.ini', 'TwoTower_foraging_002_006.mat', 'TwoTower_foraging_002_006.sbx'])\n",
      "('E:\\\\2P_Data\\\\TwoTower\\\\4139265.4\\\\22_02_2019\\\\TwoTower_foraging\\\\TwoTower_foraging_002_006', ['suite2p'], ['desktop.ini'])\n",
      "('E:\\\\2P_Data\\\\TwoTower\\\\4139265.4\\\\22_02_2019\\\\TwoTower_foraging\\\\TwoTower_foraging_002_006\\\\suite2p', ['plane0'], ['data.bin', 'desktop.ini', 'ops1.npy'])\n",
      "('E:\\\\2P_Data\\\\TwoTower\\\\4139265.4\\\\22_02_2019\\\\TwoTower_foraging\\\\TwoTower_foraging_002_006\\\\suite2p\\\\plane0', [], ['desktop.ini', 'F.npy', 'Fneu.npy', 'iscell.npy', 'ops.npy', 'spks.npy', 'stat.npy'])\n",
      "('E:\\\\2P_Data\\\\TwoTower\\\\4139265.4\\\\test', [], ['desktop.ini'])\n"
     ]
    }
   ],
   "source": [
    "for fold in folders:\n",
    "    print(fold)"
   ]
  },
  {
   "cell_type": "code",
   "execution_count": null,
   "metadata": {},
   "outputs": [],
   "source": []
  }
 ],
 "metadata": {
  "kernelspec": {
   "display_name": "Python 3",
   "language": "python",
   "name": "python3"
  },
  "language_info": {
   "codemirror_mode": {
    "name": "ipython",
    "version": 3
   },
   "file_extension": ".py",
   "mimetype": "text/x-python",
   "name": "python",
   "nbconvert_exporter": "python",
   "pygments_lexer": "ipython3",
   "version": "3.7.4"
  }
 },
 "nbformat": 4,
 "nbformat_minor": 4
}

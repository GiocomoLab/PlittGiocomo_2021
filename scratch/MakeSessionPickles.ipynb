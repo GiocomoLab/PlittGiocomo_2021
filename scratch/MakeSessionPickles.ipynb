{
 "cells": [
  {
   "cell_type": "code",
   "execution_count": 1,
   "metadata": {},
   "outputs": [],
   "source": [
    "import os\n",
    "os.sys.path.append(\"C:\\\\Users\\\\markp\\\\repos\\\\PlittGiocomo_CA1Morph_2019\")\n",
    "import numpy as np\n",
    "import scipy as sp\n",
    "from scipy import signal\n",
    "import sklearn as sk\n",
    "from sklearn import neighbors\n",
    "import preprocessing as pp\n",
    "import utilities as u\n",
    "import MAPInference as mapi\n",
    "from matplotlib import pyplot as plt\n",
    "import pickle\n",
    "\n",
    "\n",
    "\n",
    "%matplotlib inline\n",
    "\n",
    "%load_ext autoreload\n",
    "%autoreload 2"
   ]
  },
  {
   "cell_type": "code",
   "execution_count": 2,
   "metadata": {},
   "outputs": [],
   "source": [
    "df = pp.load_session_db()\n",
    "df = df[df['RewardCount']>20]\n",
    "df = df.sort_values(['MouseName','DateTime','SessionNumber'])\n",
    "df = df[df[\"Track\"]==\"TwoTower_foraging\"]\n",
    "df = df[(df['ImagingRegion']=='CA1' )|(df['ImagingRegion']=='')]\n",
    "df = df[df[\"Imaging\"]==1]"
   ]
  },
  {
   "cell_type": "code",
   "execution_count": 3,
   "metadata": {},
   "outputs": [],
   "source": [
    "df = pp.load_session_db()\n",
    "df = df[df['RewardCount']>30]\n",
    "df = df[df['Imaging']==1]\n",
    "df = df.sort_values(['MouseName','DateTime','SessionNumber'])\n",
    "\n",
    "tracks = 'FreqMorph_Decision|FreqMorph_Timeout|TwoTower_noTimeout|TwoTower_Timeout'\n",
    "df = df[df['Track'].str.contains(tracks,regex=True)]\n",
    "fd_mice = '4222157.4|4222169.1|4222169.2|4222169.4'\n",
    "df = df[df['MouseName'].str.contains(fd_mice,regex=True)]\n",
    "\n"
   ]
  },
  {
   "cell_type": "code",
   "execution_count": 9,
   "metadata": {},
   "outputs": [
    {
     "name": "stderr",
     "output_type": "stream",
     "text": [
      "C:\\Users\\markp\\anaconda3\\lib\\site-packages\\ipykernel_launcher.py:14: SettingWithCopyWarning: \n",
      "A value is trying to be set on a copy of a slice from a DataFrame\n",
      "\n",
      "See the caveats in the documentation: http://pandas.pydata.org/pandas-docs/stable/user_guide/indexing.html#returning-a-view-versus-a-copy\n",
      "  \n",
      "C:\\Users\\markp\\anaconda3\\lib\\site-packages\\ipykernel_launcher.py:15: SettingWithCopyWarning: \n",
      "A value is trying to be set on a copy of a slice from a DataFrame\n",
      "\n",
      "See the caveats in the documentation: http://pandas.pydata.org/pandas-docs/stable/user_guide/indexing.html#returning-a-view-versus-a-copy\n",
      "  from ipykernel import kernelapp as app\n"
     ]
    },
    {
     "name": "stdout",
     "output_type": "stream",
     "text": [
      "num aberrant ttls 0.0\n",
      "8.592470944921677 1400.4993683678626\n",
      "8.602324406265792 1400.4325416877211\n",
      "frame diff 0\n",
      "num aberrant ttls 0.0\n",
      "8.606619504800404 1638.2252400202124\n",
      "8.667003537139971 1638.1283476503286\n",
      "frame diff 0\n"
     ]
    }
   ],
   "source": [
    "# mouse = '4222168.1'\n",
    "# mice = ['4343706']\n",
    "mice = ['4222157.4'] #'4222169.1','4222169.2','4222169.4']\n",
    "for mouse in mice:\n",
    "    df_mouse = df[df[\"MouseName\"]==mouse]\n",
    "\n",
    "    try:\n",
    "        os.makedirs(os.path.join(\"D:\\\\Suite2P_Data\",mouse))\n",
    "    except:\n",
    "        pass\n",
    "\n",
    "    for i in range(df_mouse.shape[0]):\n",
    "        sess = df_mouse.iloc[i]\n",
    "        sess['scanmat']=pp.build_2P_filename(sess,serverDir = \"G:\\\\My Drive\\\\2P_Data\\\\TwoTower\")\n",
    "        sess['s2pfolder']=pp.build_s2p_folder(sess,serverDir = \"G:\\\\My Drive\\\\2P_Data\\\\TwoTower\")\n",
    "        fname = os.path.join(\"D:\\\\Suite2P_Data\\\\\",mouse,\"%s_%s_%i.pkl\" % (sess['Track'],sess[\"DateFolder\"],sess['SessionNumber']))\n",
    "        if not os.path.exists(fname):           \n",
    "    #         try:\n",
    "            VRDat, C, S, dFF = pp.load_scan_sess(sess,fneu_coeff=.7)\n",
    "            trial_info, tstart_inds, teleport_inds = u.by_trial_info(VRDat)\n",
    "            S_trial_mat, occ_trial_mat, edges,centers = u.make_pos_bin_trial_matrices(S,\n",
    "                                                        VRDat['pos']._values,tstart_inds,\n",
    "                                                        teleport_inds,bin_size=10,\n",
    "                                                        speed = VRDat['speed']._values)\n",
    "\n",
    "            with open(os.path.join(\"D:\\\\Suite2P_Data\\\\\",mouse,\"%s_%s_%i.pkl\" % (sess['Track'],sess[\"DateFolder\"],sess['SessionNumber'])),\"wb\") as f:\n",
    "                pickle.dump({'VRDat':VRDat,'C':C,'S':S,'dFF':dFF,'trial_info':trial_info,'tstart_inds':tstart_inds,'teleport_inds':teleport_inds,\n",
    "                            'S_trial_mat':S_trial_mat,'occ_trial_mat':occ_trial_mat,'edges':edges,'centers':centers},f)\n",
    "#         except:\n",
    "#             print(sess)"
   ]
  },
  {
   "cell_type": "code",
   "execution_count": null,
   "metadata": {},
   "outputs": [],
   "source": [
    "with open(os.path.join(\"D:\\\\Suite2P_Data\\\\\",'4343706','TwoTower_forag.p'),\"rb\") as f:\n",
    "    data = pickle.load(f)\n",
    "for k,v in data.items():\n",
    "    print(k,v)"
   ]
  },
  {
   "cell_type": "code",
   "execution_count": 22,
   "metadata": {},
   "outputs": [
    {
     "name": "stdout",
     "output_type": "stream",
     "text": [
      "('E:\\\\2P_Data\\\\TwoTower\\\\4139265.4', ['07_02_2019', '10_02_2019', '12_02_2019', '15_02_2019', '17_02_2019', '18_02_2019', '19_02_2019', '20_02_2019', '21_02_2019', '22_02_2019', 'test'], ['desktop.ini'])\n"
     ]
    }
   ],
   "source": [
    "folders = os.walk(os.path.join(\"E:\\\\\",\"2P_Data\",\"TwoTower\",mouse))\n",
    "print(next(folders))\n",
    "\n",
    "for "
   ]
  },
  {
   "cell_type": "code",
   "execution_count": 19,
   "metadata": {},
   "outputs": [
    {
     "name": "stdout",
     "output_type": "stream",
     "text": [
      "('E:\\\\2P_Data\\\\TwoTower\\\\4139265.4', ['07_02_2019', '10_02_2019', '12_02_2019', '15_02_2019', '17_02_2019', '18_02_2019', '19_02_2019', '20_02_2019', '21_02_2019', '22_02_2019', 'test'], ['desktop.ini'])\n",
      "('E:\\\\2P_Data\\\\TwoTower\\\\4139265.4\\\\07_02_2019', ['TwoTower_foraging'], ['desktop.ini'])\n",
      "('E:\\\\2P_Data\\\\TwoTower\\\\4139265.4\\\\07_02_2019\\\\TwoTower_foraging', ['TwoTower_foraging_002_001', 'TwoTower_foraging_004_004'], ['desktop.ini', 'TwoTower_foraging_002_001.mat', 'TwoTower_foraging_002_001.sbx', 'TwoTower_foraging_002_002.mat', 'TwoTower_foraging_002_002.sbx', 'TwoTower_foraging_002_003.sbx', 'TwoTower_foraging_004_004.mat', 'TwoTower_foraging_004_004.sbx'])\n",
      "('E:\\\\2P_Data\\\\TwoTower\\\\4139265.4\\\\07_02_2019\\\\TwoTower_foraging\\\\TwoTower_foraging_002_001', ['suite2p'], ['desktop.ini'])\n",
      "('E:\\\\2P_Data\\\\TwoTower\\\\4139265.4\\\\07_02_2019\\\\TwoTower_foraging\\\\TwoTower_foraging_002_001\\\\suite2p', ['plane0'], ['data.bin', 'desktop.ini', 'ops1.npy'])\n",
      "('E:\\\\2P_Data\\\\TwoTower\\\\4139265.4\\\\07_02_2019\\\\TwoTower_foraging\\\\TwoTower_foraging_002_001\\\\suite2p\\\\plane0', [], ['desktop.ini', 'F.npy', 'Fneu.npy', 'iscell.npy', 'ops.npy', 'S.npy', 'spks.npy', 'stat.npy'])\n",
      "('E:\\\\2P_Data\\\\TwoTower\\\\4139265.4\\\\07_02_2019\\\\TwoTower_foraging\\\\TwoTower_foraging_004_004', ['suite2p'], ['desktop.ini'])\n",
      "('E:\\\\2P_Data\\\\TwoTower\\\\4139265.4\\\\07_02_2019\\\\TwoTower_foraging\\\\TwoTower_foraging_004_004\\\\suite2p', ['plane0'], ['data.bin', 'desktop.ini', 'ops1.npy'])\n",
      "('E:\\\\2P_Data\\\\TwoTower\\\\4139265.4\\\\07_02_2019\\\\TwoTower_foraging\\\\TwoTower_foraging_004_004\\\\suite2p\\\\plane0', [], ['desktop.ini', 'F.npy', 'Fneu.npy', 'iscell.npy', 'ops.npy', 'S.npy', 'spks.npy', 'stat.npy'])\n",
      "('E:\\\\2P_Data\\\\TwoTower\\\\4139265.4\\\\10_02_2019', ['TwoTower_foraging'], ['desktop.ini'])\n",
      "('E:\\\\2P_Data\\\\TwoTower\\\\4139265.4\\\\10_02_2019\\\\TwoTower_foraging', ['TwoTower_foraging_002_002'], ['desktop.ini', 'TwoTower_foraging_002_002.mat', 'TwoTower_foraging_002_002.sbx'])\n",
      "('E:\\\\2P_Data\\\\TwoTower\\\\4139265.4\\\\10_02_2019\\\\TwoTower_foraging\\\\TwoTower_foraging_002_002', ['suite2p'], ['desktop.ini'])\n",
      "('E:\\\\2P_Data\\\\TwoTower\\\\4139265.4\\\\10_02_2019\\\\TwoTower_foraging\\\\TwoTower_foraging_002_002\\\\suite2p', ['plane0'], ['data.bin', 'desktop.ini', 'ops1.npy'])\n",
      "('E:\\\\2P_Data\\\\TwoTower\\\\4139265.4\\\\10_02_2019\\\\TwoTower_foraging\\\\TwoTower_foraging_002_002\\\\suite2p\\\\plane0', [], ['desktop.ini', 'F.npy', 'Fneu.npy', 'iscell.npy', 'ops.npy', 'S.npy', 'spks.npy', 'stat.npy'])\n",
      "('E:\\\\2P_Data\\\\TwoTower\\\\4139265.4\\\\12_02_2019', ['TwoTower_foraging'], ['desktop.ini'])\n",
      "('E:\\\\2P_Data\\\\TwoTower\\\\4139265.4\\\\12_02_2019\\\\TwoTower_foraging', ['TwoTower_foraging_002_004'], ['desktop.ini', 'TwoTower_foraging_002_004.mat', 'TwoTower_foraging_002_004.sbx'])\n",
      "('E:\\\\2P_Data\\\\TwoTower\\\\4139265.4\\\\12_02_2019\\\\TwoTower_foraging\\\\TwoTower_foraging_002_004', ['suite2p'], ['desktop.ini'])\n",
      "('E:\\\\2P_Data\\\\TwoTower\\\\4139265.4\\\\12_02_2019\\\\TwoTower_foraging\\\\TwoTower_foraging_002_004\\\\suite2p', ['plane0'], ['data.bin', 'desktop.ini', 'ops1.npy'])\n",
      "('E:\\\\2P_Data\\\\TwoTower\\\\4139265.4\\\\12_02_2019\\\\TwoTower_foraging\\\\TwoTower_foraging_002_004\\\\suite2p\\\\plane0', [], ['desktop.ini', 'F.npy', 'Fneu.npy', 'iscell.npy', 'ops.npy', 'S.npy', 'spks.npy', 'stat.npy'])\n",
      "('E:\\\\2P_Data\\\\TwoTower\\\\4139265.4\\\\15_02_2019', ['TwoTower_foraging'], ['desktop.ini'])\n",
      "('E:\\\\2P_Data\\\\TwoTower\\\\4139265.4\\\\15_02_2019\\\\TwoTower_foraging', ['TwoTower_foraging_003_005'], ['desktop.ini', 'TwoTower_foraging_003_005.mat', 'TwoTower_foraging_003_005.sbx'])\n",
      "('E:\\\\2P_Data\\\\TwoTower\\\\4139265.4\\\\15_02_2019\\\\TwoTower_foraging\\\\TwoTower_foraging_003_005', ['suite2p'], ['desktop.ini'])\n",
      "('E:\\\\2P_Data\\\\TwoTower\\\\4139265.4\\\\15_02_2019\\\\TwoTower_foraging\\\\TwoTower_foraging_003_005\\\\suite2p', ['plane0'], ['data.bin', 'desktop.ini', 'ops1.npy'])\n",
      "('E:\\\\2P_Data\\\\TwoTower\\\\4139265.4\\\\15_02_2019\\\\TwoTower_foraging\\\\TwoTower_foraging_003_005\\\\suite2p\\\\plane0', [], ['desktop.ini', 'F.npy', 'Fneu.npy', 'iscell.npy', 'ops.npy', 'S.npy', 'spks.npy', 'stat.npy'])\n",
      "('E:\\\\2P_Data\\\\TwoTower\\\\4139265.4\\\\17_02_2019', ['TwoTower_foraging'], ['desktop.ini'])\n",
      "('E:\\\\2P_Data\\\\TwoTower\\\\4139265.4\\\\17_02_2019\\\\TwoTower_foraging', ['TwoTower_foraging_002_008'], ['desktop.ini', 'TwoTower_foraging_002_008.mat', 'TwoTower_foraging_002_008.sbx'])\n",
      "('E:\\\\2P_Data\\\\TwoTower\\\\4139265.4\\\\17_02_2019\\\\TwoTower_foraging\\\\TwoTower_foraging_002_008', ['suite2p'], ['desktop.ini'])\n",
      "('E:\\\\2P_Data\\\\TwoTower\\\\4139265.4\\\\17_02_2019\\\\TwoTower_foraging\\\\TwoTower_foraging_002_008\\\\suite2p', ['plane0'], ['data.bin', 'desktop.ini', 'ops1.npy'])\n",
      "('E:\\\\2P_Data\\\\TwoTower\\\\4139265.4\\\\17_02_2019\\\\TwoTower_foraging\\\\TwoTower_foraging_002_008\\\\suite2p\\\\plane0', [], ['desktop.ini', 'F.npy', 'Fneu.npy', 'iscell.npy', 'ops.npy', 'S.npy', 'spks.npy', 'stat.npy'])\n",
      "('E:\\\\2P_Data\\\\TwoTower\\\\4139265.4\\\\18_02_2019', ['TwoTower_foraging'], ['desktop.ini'])\n",
      "('E:\\\\2P_Data\\\\TwoTower\\\\4139265.4\\\\18_02_2019\\\\TwoTower_foraging', ['TwoTower_foraging_002_003'], ['desktop.ini', 'TwoTower_foraging_002_003.mat', 'TwoTower_foraging_002_003.sbx'])\n",
      "('E:\\\\2P_Data\\\\TwoTower\\\\4139265.4\\\\18_02_2019\\\\TwoTower_foraging\\\\TwoTower_foraging_002_003', ['suite2p'], ['desktop.ini'])\n",
      "('E:\\\\2P_Data\\\\TwoTower\\\\4139265.4\\\\18_02_2019\\\\TwoTower_foraging\\\\TwoTower_foraging_002_003\\\\suite2p', ['plane0'], ['data.bin', 'desktop.ini', 'ops1.npy'])\n",
      "('E:\\\\2P_Data\\\\TwoTower\\\\4139265.4\\\\18_02_2019\\\\TwoTower_foraging\\\\TwoTower_foraging_002_003\\\\suite2p\\\\plane0', [], ['desktop.ini', 'F.npy', 'Fneu.npy', 'iscell.npy', 'ops.npy', 'spks.npy', 'stat.npy'])\n",
      "('E:\\\\2P_Data\\\\TwoTower\\\\4139265.4\\\\19_02_2019', ['TwoTower_foraging'], ['desktop.ini'])\n",
      "('E:\\\\2P_Data\\\\TwoTower\\\\4139265.4\\\\19_02_2019\\\\TwoTower_foraging', ['TwoTower_foraging_002_002'], ['desktop.ini', 'TwoTower_foraging_002_002.mat', 'TwoTower_foraging_002_002.sbx'])\n",
      "('E:\\\\2P_Data\\\\TwoTower\\\\4139265.4\\\\19_02_2019\\\\TwoTower_foraging\\\\TwoTower_foraging_002_002', ['suite2p'], ['desktop.ini'])\n",
      "('E:\\\\2P_Data\\\\TwoTower\\\\4139265.4\\\\19_02_2019\\\\TwoTower_foraging\\\\TwoTower_foraging_002_002\\\\suite2p', ['plane0'], ['data.bin', 'desktop.ini', 'ops1.npy'])\n",
      "('E:\\\\2P_Data\\\\TwoTower\\\\4139265.4\\\\19_02_2019\\\\TwoTower_foraging\\\\TwoTower_foraging_002_002\\\\suite2p\\\\plane0', [], ['desktop.ini', 'F.npy', 'Fneu.npy', 'iscell.npy', 'ops.npy', 'spks.npy', 'stat.npy'])\n",
      "('E:\\\\2P_Data\\\\TwoTower\\\\4139265.4\\\\20_02_2019', ['TwoTower_foraging'], ['desktop.ini'])\n",
      "('E:\\\\2P_Data\\\\TwoTower\\\\4139265.4\\\\20_02_2019\\\\TwoTower_foraging', ['TwoTower_foraging_002_003'], ['desktop.ini', 'TwoTower_foraging_002_003.mat', 'TwoTower_foraging_002_003.sbx'])\n",
      "('E:\\\\2P_Data\\\\TwoTower\\\\4139265.4\\\\20_02_2019\\\\TwoTower_foraging\\\\TwoTower_foraging_002_003', ['suite2p'], ['desktop.ini'])\n",
      "('E:\\\\2P_Data\\\\TwoTower\\\\4139265.4\\\\20_02_2019\\\\TwoTower_foraging\\\\TwoTower_foraging_002_003\\\\suite2p', ['plane0'], ['data.bin', 'desktop.ini', 'ops1.npy'])\n",
      "('E:\\\\2P_Data\\\\TwoTower\\\\4139265.4\\\\20_02_2019\\\\TwoTower_foraging\\\\TwoTower_foraging_002_003\\\\suite2p\\\\plane0', [], ['desktop.ini', 'F.npy', 'Fneu.npy', 'iscell.npy', 'ops.npy', 'spks.npy', 'stat.npy'])\n",
      "('E:\\\\2P_Data\\\\TwoTower\\\\4139265.4\\\\21_02_2019', ['TwoTower_foraging'], ['desktop.ini'])\n",
      "('E:\\\\2P_Data\\\\TwoTower\\\\4139265.4\\\\21_02_2019\\\\TwoTower_foraging', ['TwoTower_foraging_002_006'], ['desktop.ini', 'TwoTower_foraging_002_006.mat', 'TwoTower_foraging_002_006.sbx'])\n",
      "('E:\\\\2P_Data\\\\TwoTower\\\\4139265.4\\\\21_02_2019\\\\TwoTower_foraging\\\\TwoTower_foraging_002_006', ['suite2p'], ['desktop.ini'])\n",
      "('E:\\\\2P_Data\\\\TwoTower\\\\4139265.4\\\\21_02_2019\\\\TwoTower_foraging\\\\TwoTower_foraging_002_006\\\\suite2p', ['plane0'], ['data.bin', 'desktop.ini', 'ops1.npy'])\n",
      "('E:\\\\2P_Data\\\\TwoTower\\\\4139265.4\\\\21_02_2019\\\\TwoTower_foraging\\\\TwoTower_foraging_002_006\\\\suite2p\\\\plane0', [], ['desktop.ini', 'F.npy', 'Fneu.npy', 'iscell.npy', 'ops.npy', 'spks.npy', 'stat.npy'])\n",
      "('E:\\\\2P_Data\\\\TwoTower\\\\4139265.4\\\\22_02_2019', ['TwoTower_foraging'], ['desktop.ini'])\n",
      "('E:\\\\2P_Data\\\\TwoTower\\\\4139265.4\\\\22_02_2019\\\\TwoTower_foraging', ['TwoTower_foraging_002_006'], ['desktop.ini', 'TwoTower_foraging_002_006.mat', 'TwoTower_foraging_002_006.sbx'])\n",
      "('E:\\\\2P_Data\\\\TwoTower\\\\4139265.4\\\\22_02_2019\\\\TwoTower_foraging\\\\TwoTower_foraging_002_006', ['suite2p'], ['desktop.ini'])\n",
      "('E:\\\\2P_Data\\\\TwoTower\\\\4139265.4\\\\22_02_2019\\\\TwoTower_foraging\\\\TwoTower_foraging_002_006\\\\suite2p', ['plane0'], ['data.bin', 'desktop.ini', 'ops1.npy'])\n",
      "('E:\\\\2P_Data\\\\TwoTower\\\\4139265.4\\\\22_02_2019\\\\TwoTower_foraging\\\\TwoTower_foraging_002_006\\\\suite2p\\\\plane0', [], ['desktop.ini', 'F.npy', 'Fneu.npy', 'iscell.npy', 'ops.npy', 'spks.npy', 'stat.npy'])\n",
      "('E:\\\\2P_Data\\\\TwoTower\\\\4139265.4\\\\test', [], ['desktop.ini'])\n"
     ]
    }
   ],
   "source": [
    "for fold in folders:\n",
    "    print(fold)"
   ]
  },
  {
   "cell_type": "code",
   "execution_count": null,
   "metadata": {},
   "outputs": [],
   "source": []
  }
 ],
 "metadata": {
  "kernelspec": {
   "display_name": "Python 3",
   "language": "python",
   "name": "python3"
  },
  "language_info": {
   "codemirror_mode": {
    "name": "ipython",
    "version": 3
   },
   "file_extension": ".py",
   "mimetype": "text/x-python",
   "name": "python",
   "nbconvert_exporter": "python",
   "pygments_lexer": "ipython3",
   "version": "3.7.4"
  }
 },
 "nbformat": 4,
 "nbformat_minor": 4
}

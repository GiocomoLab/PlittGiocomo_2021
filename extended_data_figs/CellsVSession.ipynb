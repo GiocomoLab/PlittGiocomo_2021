{
 "cells": [
  {
   "cell_type": "code",
   "execution_count": 1,
   "metadata": {},
   "outputs": [
    {
     "name": "stderr",
     "output_type": "stream",
     "text": [
      "C:\\Users\\markp\\anaconda3\\lib\\site-packages\\xarray\\core\\merge.py:10: FutureWarning: The Panel class is removed from pandas. Accessing it from the top-level namespace will also be removed in the next version\n",
      "  PANDAS_TYPES = (pd.Series, pd.DataFrame, pd.Panel)\n"
     ]
    }
   ],
   "source": [
    "import numpy as np\n",
    "import scipy as sp\n",
    "import sklearn as sk\n",
    "import itertools\n",
    "import os\n",
    "os.sys.path.append(\"../\")\n",
    "import preprocessing as pp\n",
    "import utilities as u\n",
    "import matplotlib.pyplot as plt\n",
    "from mpl_toolkits.mplot3d import Axes3D\n",
    "import pickle\n",
    "import os\n",
    "import umap\n",
    "import umap.plot\n",
    "import PlaceCellAnalysis as pc\n",
    "\n",
    "\n",
    "# %matplotlib inline\n",
    "\n",
    "%load_ext autoreload\n",
    "%autoreload 2"
   ]
  },
  {
   "cell_type": "code",
   "execution_count": 2,
   "metadata": {},
   "outputs": [],
   "source": [
    "mice = ['4139265.3','4139265.4','4139265.5','4222168.1','4343703.1','4343706','4222153.1','4222153.2',\n",
    "        '4222153.3','4222174.1','4222154.1','4343702.1']\n",
    "first_sessions = [5,5,5,3,5,2,4,4,4,4,4,4]\n",
    "rare_mice, freq_mice = mice[:6],mice[6:]"
   ]
  },
  {
   "cell_type": "code",
   "execution_count": 3,
   "metadata": {},
   "outputs": [],
   "source": [
    "df = pp.load_session_db(dir='D:\\\\')\n",
    "# df = pp.load_session_db()\n",
    "df = df[df['RewardCount']>40]\n",
    "df = df[df['Imaging']==1]\n",
    "df = df[(df['ImagingRegion']=='CA1' )|(df['ImagingRegion']=='')]\n",
    "df = df.sort_values(['MouseName','DateTime','SessionNumber'])\n",
    "df = df[df[\"Track\"]==\"TwoTower_foraging\"]"
   ]
  },
  {
   "cell_type": "code",
   "execution_count": 21,
   "metadata": {},
   "outputs": [
    {
     "name": "stdout",
     "output_type": "stream",
     "text": [
      "4139265.3\n",
      "2 1973 90\n",
      "5 1828 120\n",
      "6 1904 120\n",
      "7 1817 120\n",
      "8 1708 120\n",
      "9 1715 120\n",
      "4139265.4\n",
      "2 1178 60\n",
      "5 1632 120\n",
      "6 1656 120\n",
      "7 1515 120\n",
      "8 1650 120\n",
      "9 1498 120\n",
      "10 1631 120\n",
      "4139265.5\n",
      "2 996 90\n",
      "5 915 120\n",
      "6 976 120\n",
      "7 984 120\n",
      "8 932 120\n",
      "9 1047 120\n",
      "4222168.1\n",
      "0 922 60\n",
      "3 919 100\n",
      "4 1035 100\n",
      "5 1074 100\n",
      "6 940 100\n",
      "4343703.1\n",
      "1 1112 100\n",
      "5 1194 100\n",
      "4343706\n",
      "2 2652 70\n",
      "3 1403 60\n",
      "4 1617 60\n",
      "4222153.1\n",
      "1 475 92\n",
      "4 301 95\n",
      "5 273 100\n",
      "6 237 86\n",
      "4222153.2\n",
      "1 2016 80\n",
      "4 2127 120\n",
      "5 2149 120\n",
      "6 2046 100\n",
      "7 2006 85\n",
      "4222153.3\n",
      "1 295 120\n",
      "4 161 90\n",
      "4222174.1\n",
      "1 1965 90\n",
      "4 1963 75\n",
      "5 1998 85\n",
      "6 2047 90\n",
      "7 2117 70\n",
      "8 1901 80\n",
      "4222154.1\n",
      "1 591 120\n",
      "4 309 120\n",
      "5 571 100\n",
      "6 326 100\n",
      "7 311 90\n",
      "8 257 100\n",
      "4343702.1\n",
      "1 3657 100\n",
      "4 3313 100\n",
      "5 2875 80\n",
      "6 2746 100\n"
     ]
    }
   ],
   "source": [
    "cellnumdict = {}\n",
    "for m,mouse in enumerate(mice):\n",
    "    print(mouse)\n",
    "    df_mouse = df[df[\"MouseName\"]==mouse]\n",
    "    if mouse == '4343706':\n",
    "        sessnum = np.arange(first_sessions[m],df_mouse.shape[0])\n",
    "    elif mouse == '4343703.1':\n",
    "        \n",
    "        sessnum = np.append([1],np.arange(first_sessions[m],df_mouse.shape[0]))\n",
    "    else:\n",
    "        sessnum = np.append([first_sessions[m]-3],np.arange(first_sessions[m],df_mouse.shape[0]))\n",
    "        \n",
    "    cellnum = []\n",
    "    for ind in sessnum.tolist():\n",
    "        sess = df_mouse.iloc[ind]\n",
    "        with open(os.path.join(\"D:\\\\Suite2P_Data\\\\\",sess[\"MouseName\"],\"%s_%s_%i.pkl\" % (sess[\"Track\"],sess[\"DateFolder\"],sess[\"SessionNumber\"])),'rb') as f:\n",
    "            data = pickle.load(f)\n",
    "        print(ind,data['S'].shape[1],data['S_trial_mat'].shape[0])\n",
    "#         print(data.keys())\n",
    "        cellnum.append(data['S'].shape[1])\n",
    "    cellnumdict[mouse]={}\n",
    "    cellnumdict[mouse]['cellN']=cellnum\n",
    "    if mouse in rare_mice:\n",
    "        if mouse == \"4343706\":\n",
    "            \n",
    "            sessnum+=6\n",
    "        elif mouse== '4222168.1':\n",
    "            sessnum[0]+=3\n",
    "            sessnum[1:]+=5\n",
    "        else:\n",
    "            sessnum[0]+=1\n",
    "            sessnum[1:]+=3\n",
    "    else:\n",
    "        sessnum[0]+=2\n",
    "        sessnum[1:]+=4\n",
    "    cellnumdict[mouse]['sessN']=sessnum\n",
    "    "
   ]
  },
  {
   "cell_type": "code",
   "execution_count": 22,
   "metadata": {},
   "outputs": [
    {
     "data": {
      "image/png": "[encoded data removed]",
      "text/plain": [
       "<Figure size 720x360 with 2 Axes>"
      ]
     },
     "metadata": {
      "needs_background": "light"
     },
     "output_type": "display_data"
    }
   ],
   "source": [
    "f,ax = plt.subplots(1,2,figsize=[10,5])\n",
    "f.subplots_adjust(wspace=.5)\n",
    "for m,mouse in enumerate(rare_mice):\n",
    "    ax[0].plot(cellnumdict[mouse]['sessN'],cellnumdict[mouse]['cellN'],marker='x',color=plt.cm.copper(np.float(m)/6))\n",
    "    \n",
    "for m,mouse in enumerate(freq_mice):\n",
    "    ax[1].plot(cellnumdict[mouse]['sessN'],cellnumdict[mouse]['cellN'],marker='x',color=plt.cm.cividis(np.float(m)/6.))\n",
    "    \n",
    "for a in ax:\n",
    "    a.spines['top'].set_visible(False)\n",
    "    a.spines['right'].set_visible(False)\n",
    "\n",
    "    a.set_xlabel('Session #')\n",
    "    a.set_ylabel('# of cells')\n",
    "    a.set_xticks([3,8,12])\n",
    "f.savefig(\"D:\\\\Morph_Results\\\\figures\\\\CellsPerSession.pdf\",format=\"pdf\")"
   ]
  },
  {
   "cell_type": "code",
   "execution_count": null,
   "metadata": {},
   "outputs": [],
   "source": []
  }
 ],
 "metadata": {
  "kernelspec": {
   "display_name": "Python 3",
   "language": "python",
   "name": "python3"
  },
  "language_info": {
   "codemirror_mode": {
    "name": "ipython",
    "version": 3
   },
   "file_extension": ".py",
   "mimetype": "text/x-python",
   "name": "python",
   "nbconvert_exporter": "python",
   "pygments_lexer": "ipython3",
   "version": "3.7.4"
  }
 },
 "nbformat": 4,
 "nbformat_minor": 4
}

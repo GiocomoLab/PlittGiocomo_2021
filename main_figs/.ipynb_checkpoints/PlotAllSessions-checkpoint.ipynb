{
 "cells": [
  {
   "cell_type": "code",
   "execution_count": 20,
   "metadata": {},
   "outputs": [
    {
     "name": "stdout",
     "output_type": "stream",
     "text": [
      "The autoreload extension is already loaded. To reload it, use:\n",
      "  %reload_ext autoreload\n"
     ]
    }
   ],
   "source": [
    "import os\n",
    "os.sys.path.append(\"../\")\n",
    "import numpy as np\n",
    "import scipy as sp\n",
    "from scipy import signal\n",
    "import sklearn as sk\n",
    "import preprocessing as pp\n",
    "import utilities as u\n",
    "from matplotlib import pyplot as plt\n",
    "import pickle\n",
    "\n",
    "import UnityTransforms as ut\n",
    "import SimilarityMatrixAnalysis as sm\n",
    "import itertools\n",
    "import matplotlib.gridspec as gridspec\n",
    "\n",
    "%matplotlib inline\n",
    "\n",
    "%load_ext autoreload\n",
    "%autoreload 2"
   ]
  },
  {
   "cell_type": "code",
   "execution_count": 3,
   "metadata": {},
   "outputs": [],
   "source": [
    "df = pp.load_session_db(dir='D:\\\\')\n",
    "# df = pp.load_session_db()\n",
    "df = df[df['RewardCount']>40]\n",
    "df = df[df['Imaging']==1]\n",
    "df = df.sort_values(['MouseName','DateTime','SessionNumber'])\n",
    "df = df[df[\"Track\"]==\"TwoTower_foraging\"]\n",
    "df = df[(df['ImagingRegion']=='CA1' )|(df['ImagingRegion']=='')]"
   ]
  },
  {
   "cell_type": "code",
   "execution_count": 4,
   "metadata": {},
   "outputs": [
    {
     "name": "stdout",
     "output_type": "stream",
     "text": [
      "12 12\n"
     ]
    }
   ],
   "source": [
    "mice = ['4139265.3','4139265.4','4139265.5','4222168.1','4343703.1','4343706','4222153.1','4222153.2',\n",
    "        '4222153.3','4222174.1','4222154.1','4343702.1']\n",
    "first_sessions = [5,5,5,3,5,2,4,4,4,4,4,4]\n",
    "print(len(mice),len(first_sessions))\n",
    "rare_mice,freq_mice = mice[:6],mice[6:]\n",
    "rare_fs, freq_fs = first_sessions[:6],first_sessions[6:]\n"
   ]
  },
  {
   "cell_type": "code",
   "execution_count": 6,
   "metadata": {},
   "outputs": [],
   "source": [
    "with open(\"D:\\\\Morph_Results\\\\rare_sf_regression.pkl\",'rb') as f:\n",
    "    rare_sfreg = pickle.load(f)\n",
    "    \n",
    "with open(\"D:\\\\Morph_Results\\\\freq_sf_regression.pkl\",'rb') as f:\n",
    "    freq_sfreg = pickle.load(f)"
   ]
  },
  {
   "cell_type": "code",
   "execution_count": 10,
   "metadata": {},
   "outputs": [],
   "source": [
    "def prior_post(dict_sfreg,sigma_likelihood=.3,x=np.linspace(-.3,1.3,num=1000)[np.newaxis,:],first=True):\n",
    "    mice = [mouse for mouse in dict_sfreg.keys()]\n",
    "    priors,priors_uc = np.zeros([len(mice),x.shape[1]]),np.zeros([len(mice),x.shape[1]])\n",
    "    for i, (mouse,res) in enumerate(dict_sfreg.items()):\n",
    "        _prior,_prior_uc=res['priors'][0],res['priors_uc'][0]\n",
    "        _prior = _prior/_prior.sum()\n",
    "        priors[i,:]=_prior\n",
    "        priors_uc[i,:]=_prior_uc/_prior_uc.sum()\n",
    "        \n",
    "    prior = _prior.mean(axis=0,keepdims=True)\n",
    "    prior = prior/prior.sum()\n",
    "    post = prior*u.gaussian(x.T,sigma_likelihood,x)\n",
    "    post = post/post.sum(axis=1)\n",
    "    \n",
    "    post_uc = prior*u.gaussian(ut.wallmorphx(x.T),sigma_likelihood,x)\n",
    "    post_uc = post_uc/post_uc.sum(axis=1)\n",
    "    return priors, prior, post,priors_uc, post_uc"
   ]
  },
  {
   "cell_type": "code",
   "execution_count": 28,
   "metadata": {},
   "outputs": [],
   "source": [
    "rare_priors,rare_prior,rare_post , rare_prior_uc,rare_post_uc= prior_post(rare_sfreg,first=True)\n",
    "freq_priors,freq_prior,freq_post, freq_prior_uc , freq_post_uc= prior_post(freq_sfreg,first=True)\n",
    "x = np.linspace(-.3,1.3,num=1000)"
   ]
  },
  {
   "cell_type": "code",
   "execution_count": 38,
   "metadata": {},
   "outputs": [],
   "source": [
    "def single_session_kldiv(_wm,_yh):\n",
    "    \n",
    "    wmsm = u.gaussian(_wm[:,np.newaxis,np.newaxis],.1,x[np.newaxis,:,np.newaxis])\n",
    "    yhsm = u.gaussian(_yh[:,np.newaxis,np.newaxis],.1,x[np.newaxis,np.newaxis,:])\n",
    "    H = np.sum(wmsm*yhsm,axis=0)\n",
    "    Z=H.sum(axis=1)\n",
    "    H/=H.sum(axis=1,keepdims=True)\n",
    "    xmask = (x>=-.1) & (x<=1.1)\n",
    "    rare_kl,freq_kl = [],[]\n",
    "    for row in range(H.shape[1]):\n",
    "        if (x[row]>=.1) and (x[row]<=1.1):\n",
    "            rare_kl.append(sp.stats.entropy(rare_post[row,:],H[row,:],base=2))\n",
    "            freq_kl.append(sp.stats.entropy(freq_post[row,:],H[row,:],base=2))\n",
    "    return H[xmask,:].T, np.array(rare_kl).mean()-np.array(freq_kl).mean()\n",
    "\n",
    "        "
   ]
  },
  {
   "cell_type": "code",
   "execution_count": null,
   "metadata": {},
   "outputs": [],
   "source": []
  },
  {
   "cell_type": "code",
   "execution_count": 41,
   "metadata": {},
   "outputs": [],
   "source": [
    "def plot_sessions(mouse,sessions,sessionlabels):\n",
    "    df_mouse = df[df[\"MouseName\"]==mouse]\n",
    "    f = plt.figure(figsize=[20,7*len(sessions)])\n",
    "    gs = gridspec.GridSpec(14*len(sessions),40)\n",
    "    \n",
    "    \n",
    "    for i,(ind,label) in enumerate(zip(sessions,sessionlabels)):\n",
    "        sess=df_mouse.iloc[ind]\n",
    "        with open(os.path.join(\"D:\\\\Suite2P_Data\\\\\",sess[\"MouseName\"],\"%s_%s_%i.pkl\" % (sess[\"Track\"],sess[\"DateFolder\"],sess[\"SessionNumber\"])),'rb') as ff:\n",
    "                    data = pickle.load(ff)\n",
    "        VRDat,S = data['VRDat'],data['S']\n",
    "        S[np.isnan(S)]=0\n",
    "        S = S/np.percentile(S,95,axis=0)\n",
    "        trial_info,S_trial_mat= data['trial_info'],data['S_trial_mat']\n",
    "        morphs = trial_info['morphs']+trial_info['wallJitter']\n",
    "        effMorph = (trial_info['morphs']+trial_info['wallJitter']+.1)/1.2\n",
    "        S_trial_mat[np.isnan(S_trial_mat)]=0\n",
    "        \n",
    "        \n",
    "        # trial x trial similarity\n",
    "        S_tmat_norm = np.copy(S_trial_mat).reshape(S_trial_mat.shape[0],-1)\n",
    "        S_tmat_norm = S_tmat_norm/np.linalg.norm(S_tmat_norm,ord=2,axis=-1,keepdims=True)\n",
    "        C = np.matmul(S_tmat_norm,S_tmat_norm.T)\n",
    "        \n",
    "        msort = np.argsort(morphs)\n",
    "        C_msort = sm._sort_simmat(C,msort)\n",
    "        \n",
    "        vmax = np.percentile(C.ravel(),90)\n",
    "        vmin = np.percentile(C.ravel(),10)\n",
    "\n",
    "        cm_ax = f.add_subplot(gs[14*i:14*i+9,:9])\n",
    "        cm_ax.imshow(C_msort,cmap='Greys',vmin=vmin,vmax=vmax,aspect='auto')\n",
    "        cm_ax.set_yticks([])\n",
    "        cm_ax.set_xticks([])\n",
    "        cm_ax.set_title(\"%s, session %d (%d neurons, %d trials)\" % (mouse, label,S.shape[1],morphs.shape[0]),fontsize=20)\n",
    "\n",
    "        mm_ax = f.add_subplot(gs[14*i+9:14*i+12,:9])\n",
    "        mm_ax.scatter(np.arange(effMorph.size),effMorph[msort],c=1-effMorph[msort],cmap='cool')\n",
    "        mm_ax.set_ylabel(\"S\",fontsize=20)\n",
    "        mm_ax.set_xlim([0,effMorph.size])\n",
    "        mm_ax.set_yticks([])\n",
    "        mm_ax.set_yticks([])\n",
    "        \n",
    "        \n",
    "         \n",
    "        rtsf = u.rt_similarity_fraction(S_trial_mat,trial_info)\n",
    "        rtsf_ax = f.add_subplot(gs[14*i+2:14*i+12,10:18])\n",
    "        for t in range(rtsf.shape[0]):\n",
    "            rtsf_ax.plot(np.arange(5,450,10),rtsf[t,:],alpha=.3,c=plt.cm.cool(1-effMorph[t]))\n",
    "        rtsf_ax.spines['top'].set_visible(False)\n",
    "        rtsf_ax.spines['right'].set_visible(False)\n",
    "        rtsf_ax.set_ylim([np.amax(rtsf.ravel())+.1,np.amin(rtsf.ravel())-.1])\n",
    "        rtsf_ax.set_xlabel(\"Position (cm.)\",fontsize=15)\n",
    "        rtsf_ax.set_ylabel(\"$SF$\",fontsize=15)\n",
    "        \n",
    "\n",
    "   \n",
    "          # similarity fraction\n",
    "        sf = u.similarity_fraction(S_trial_mat,trial_info)\n",
    "        sf_ax = f.add_subplot(gs[14*i+2:14*i+12,20:28])\n",
    "        sf_ax.scatter(ut.xfreq(morphs),sf,color='black') #,c=plt.cm.cool(1-effMorph))\n",
    "        sf_ax.set_ylim([np.amax(sf)+.1,np.amin(sf)-.1])\n",
    "        sf_ax.spines['top'].set_visible(False)\n",
    "        sf_ax.spines['right'].set_visible(False)\n",
    "        sf_ax.set_xlabel(\"$f_h$\",fontsize=15)\n",
    "        sf_ax.set_ylabel(\"$SF$\",fontsize=15)\n",
    "        \n",
    "        \n",
    "        \n",
    "       \n",
    "        yhat = (sf- np.median(sf[trial_info['morphs']==0]))/(np.median(sf[trial_info['morphs']==1])-np.median(sf[trial_info['morphs']==0]))*(1.073-.094) +.094 \n",
    "        yhat = np.clip(yhat,-.3,1.3)\n",
    "        H,dkl = single_session_kldiv(ut.wallmorphx(morphs),yhat)\n",
    "        \n",
    "        h_ax = f.add_subplot(gs[14*i+2:14*i+12,30:38])\n",
    "        h_ax.imshow(H,cmap='RdPu',extent=[ut.inv_wallmorphx(-.1),ut.inv_wallmorphx(1.1),ut.inv_wallmorphx(1.3),ut.inv_wallmorphx(-.3)])\n",
    "        h_ax.set_title(\"$\\Delta D_{KL}$ = %.4f\" % (dkl),fontsize=15)\n",
    "        h_ax.set_xlabel(\"$\\hat{f}_h$\", fontsize=15)\n",
    "        h_ax.set_ylabel(\"$f_h$\",fontsize=15)\n",
    "        \n",
    "                                \n",
    "    return f"
   ]
  },
  {
   "cell_type": "code",
   "execution_count": null,
   "metadata": {},
   "outputs": [
    {
     "name": "stdout",
     "output_type": "stream",
     "text": [
      "4139265.3\n",
      "4139265.4\n",
      "4139265.5\n",
      "4222168.1\n"
     ]
    },
    {
     "name": "stderr",
     "output_type": "stream",
     "text": [
      "C:\\Users\\markp\\anaconda3\\lib\\site-packages\\ipykernel_launcher.py:13: RuntimeWarning: divide by zero encountered in true_divide\n",
      "  del sys.path[0]\n",
      "C:\\Users\\markp\\anaconda3\\lib\\site-packages\\ipykernel_launcher.py:13: RuntimeWarning: invalid value encountered in true_divide\n",
      "  del sys.path[0]\n"
     ]
    },
    {
     "name": "stdout",
     "output_type": "stream",
     "text": [
      "4343703.1\n",
      "4343706\n",
      "4222153.1\n",
      "4222153.2\n",
      "4222153.3\n",
      "4222174.1\n"
     ]
    }
   ],
   "source": [
    "\n",
    "for m,mouse in enumerate(mice):\n",
    "    print(mouse)\n",
    "    df_mouse = df[df[\"MouseName\"]==mouse]\n",
    "    if mouse != '4343706':\n",
    "        sessnum = np.append([first_sessions[m]-3],np.arange(first_sessions[m],df_mouse.shape[0]))\n",
    "    else:\n",
    "        sessnum = np.arange(first_sessions[m],df_mouse.shape[0])\n",
    "    \n",
    "    sesslabels = np.copy(sessnum)\n",
    "    if mouse in rare_mice:\n",
    "        if mouse == \"4343706\":\n",
    "            \n",
    "            sesslabels+=6\n",
    "        elif mouse== '4222168.1':\n",
    "            sesslabels[0]+=3\n",
    "            sesslabels[1:]+=5\n",
    "        else:\n",
    "            sesslabels[0]+=1\n",
    "            sesslabels[1:]+=3\n",
    "    else:\n",
    "        sesslabels[0]+=2\n",
    "        sesslabels[1:]+=4\n",
    "    \n",
    "\n",
    "    f=plot_sessions(mouse,sessnum.tolist(),sesslabels.tolist())\n",
    "    f.savefig(os.path.join(\"D:\\\\Morph_Results\\\\figures\\\\AllSessionsPlots\",\"%s.pdf\" % mouse),format=\"pdf\")\n",
    "    "
   ]
  },
  {
   "cell_type": "code",
   "execution_count": null,
   "metadata": {},
   "outputs": [],
   "source": []
  }
 ],
 "metadata": {
  "kernelspec": {
   "display_name": "Python 3",
   "language": "python",
   "name": "python3"
  },
  "language_info": {
   "codemirror_mode": {
    "name": "ipython",
    "version": 3
   },
   "file_extension": ".py",
   "mimetype": "text/x-python",
   "name": "python",
   "nbconvert_exporter": "python",
   "pygments_lexer": "ipython3",
   "version": "3.7.4"
  }
 },
 "nbformat": 4,
 "nbformat_minor": 4
}
